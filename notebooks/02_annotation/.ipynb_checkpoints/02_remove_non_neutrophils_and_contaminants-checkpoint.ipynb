{
 "cells": [
  {
   "cell_type": "code",
   "execution_count": 1,
   "id": "2cde31b4",
   "metadata": {},
   "outputs": [],
   "source": [
    "import numpy as np\n",
    "import pandas as pd\n",
    "import matplotlib as mpl\n",
    "import matplotlib.pyplot as plt\n",
    "import seaborn as sns\n",
    "import scanpy as sc\n",
    "\n",
    "from sys import path\n",
    "from os.path import abspath\n",
    "from os import environ\n",
    "path.append(abspath(\"/home/ng136/nico\"))\n",
    "environ['R_HOME'] = '/home/ng136/nico/neutrophils/analysis/conda-env/lib/R' #path to your R installation\n",
    "rlib_loc=\"/n/groups/klein/nico/neutrophils/analysis/conda-env/lib/R/library\" #path to R libraries\n",
    "import ng_functions as ng\n",
    "\n",
    "from glob import glob\n",
    "from pathlib import Path\n",
    "import warnings\n",
    "from time import time\n",
    "from datetime import datetime\n",
    "from tqdm import tqdm"
   ]
  },
  {
   "cell_type": "markdown",
   "id": "04da0291",
   "metadata": {},
   "source": [
    "# Load annotated experiments 2 and 3"
   ]
  },
  {
   "cell_type": "code",
   "execution_count": 3,
   "id": "47a1b21c",
   "metadata": {},
   "outputs": [],
   "source": [
    "n_states = ['N1a', 'N1b', 'N2', 'N3', 'N4', 'N5', 'N6']"
   ]
  },
  {
   "cell_type": "code",
   "execution_count": 4,
   "id": "09b2743e",
   "metadata": {},
   "outputs": [],
   "source": [
    "ndata = sc.read('/n/groups/klein/nico/neutrophils/backups/totalseq_exp2_all_cells_untreated_annotated_embedding_8404x13126_backup_220325_11h55.h5ad')\n",
    "tdata = sc.read('/n/groups/klein/nico/neutrophils/backups/totalseq_exp3_all_cells_acd40_annotated_embedding_33603x17824_backup_220325_12h01.h5ad')"
   ]
  },
  {
   "cell_type": "markdown",
   "id": "95ff50d7",
   "metadata": {},
   "source": [
    "# Leiden clustering"
   ]
  },
  {
   "cell_type": "code",
   "execution_count": 5,
   "id": "cc2f5ecc",
   "metadata": {},
   "outputs": [],
   "source": [
    "sc.tl.leiden(ndata, 0.1, key_added='leiden0.1')\n",
    "sc.tl.leiden(tdata, 0.1, key_added='leiden0.1')"
   ]
  },
  {
   "cell_type": "markdown",
   "id": "9b37f12a",
   "metadata": {},
   "source": [
    "# Splitting healthy and tumor-bearing"
   ]
  },
  {
   "cell_type": "code",
   "execution_count": 6,
   "id": "79c8f76c",
   "metadata": {},
   "outputs": [],
   "source": [
    "hdata = ndata[ndata.obs.sample_condition.str.startswith('WT')].copy()\n",
    "udata = ndata[ndata.obs.sample_condition.str.startswith('KP19')].copy()"
   ]
  },
  {
   "cell_type": "markdown",
   "id": "ee11f368",
   "metadata": {},
   "source": [
    "# Exclude non-neutrophils"
   ]
  },
  {
   "cell_type": "markdown",
   "id": "3ebc16ab",
   "metadata": {},
   "source": [
    "Also exclude cells annotated as neutrophils that cluster with non-neutrophils"
   ]
  },
  {
   "cell_type": "code",
   "execution_count": 7,
   "id": "86990151",
   "metadata": {},
   "outputs": [],
   "source": [
    "ndata = ndata[(ndata.obs['smoothed_Zilionis'].isin(n_states)) & (ndata.obs['leiden0.1'].isin(['0','2']))].copy()\n",
    "hdata = hdata[(hdata.obs['smoothed_Zilionis'].isin(n_states)) & (hdata.obs['leiden0.1'].isin(['0','2']))].copy()\n",
    "udata = udata[(udata.obs['smoothed_Zilionis'].isin(n_states)) & (udata.obs['leiden0.1'].isin(['0','2']))].copy()\n",
    "tdata = tdata[(tdata.obs['smoothed_Zilionis'].isin(n_states)) & (tdata.obs['leiden0.1'].isin(['0','1']))].copy()"
   ]
  },
  {
   "cell_type": "markdown",
   "id": "f0582e55",
   "metadata": {},
   "source": [
    "# Save"
   ]
  },
  {
   "cell_type": "code",
   "execution_count": 11,
   "id": "bec7579a",
   "metadata": {},
   "outputs": [
    {
     "name": "stdout",
     "output_type": "stream",
     "text": [
      "/n/groups/klein/nico/neutrophils/backups/totalseq_exp2_neutrophils_untreated_annotated_embedding_5258x13126_backup_220422_15h46.h5ad\n",
      "Elapsed time: 0 minutes and 4.3 seconds.\n"
     ]
    }
   ],
   "source": [
    "start = time()\n",
    "fname = '/n/groups/klein/nico/neutrophils/backups/totalseq_exp2_neutrophils_untreated_annotated_embedding_{}x{}_backup_{}.h5ad'.format(*ndata.shape,ng.now())\n",
    "ndata.write(fname)\n",
    "print(fname)\n",
    "ng.print_etime(start)"
   ]
  },
  {
   "cell_type": "code",
   "execution_count": 12,
   "id": "524d9484",
   "metadata": {},
   "outputs": [
    {
     "name": "stdout",
     "output_type": "stream",
     "text": [
      "/n/groups/klein/nico/neutrophils/backups/totalseq_exp3_neutrophils_untreated_annotated_embedding_25210x17824_backup_220422_15h46.h5ad\n",
      "Elapsed time: 0 minutes and 30.7 seconds.\n"
     ]
    }
   ],
   "source": [
    "start = time()\n",
    "fname = '/n/groups/klein/nico/neutrophils/backups/totalseq_exp3_neutrophils_acd40_annotated_embedding_{}x{}_backup_{}.h5ad'.format(*tdata.shape,ng.now())\n",
    "tdata.write(fname)\n",
    "print(fname)\n",
    "ng.print_etime(start)"
   ]
  },
  {
   "cell_type": "markdown",
   "id": "0676990b",
   "metadata": {},
   "source": [
    "# NB: File name for treated was corrected post facto"
   ]
  },
  {
   "cell_type": "markdown",
   "id": "98bebb79",
   "metadata": {},
   "source": [
    "### aCD40 treated neutrophils"
   ]
  },
  {
   "cell_type": "markdown",
   "id": "7b9c96b7",
   "metadata": {},
   "source": [
    "/n/groups/klein/nico/neutrophils/backups/totalseq_exp3_neutrophils_acd40_annotated_embedding_25210x17824_backup_220422_15h46.h5ad"
   ]
  },
  {
   "cell_type": "code",
   "execution_count": null,
   "id": "5d044468",
   "metadata": {},
   "outputs": [],
   "source": []
  }
 ],
 "metadata": {
  "kernelspec": {
   "display_name": "neutrophils_kernel",
   "language": "python",
   "name": "neutrophils_kernel"
  },
  "language_info": {
   "codemirror_mode": {
    "name": "ipython",
    "version": 3
   },
   "file_extension": ".py",
   "mimetype": "text/x-python",
   "name": "python",
   "nbconvert_exporter": "python",
   "pygments_lexer": "ipython3",
   "version": "3.8.13"
  }
 },
 "nbformat": 4,
 "nbformat_minor": 5
}
