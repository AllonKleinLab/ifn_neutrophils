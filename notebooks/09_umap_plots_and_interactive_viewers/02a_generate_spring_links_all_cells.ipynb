{
 "cells": [
  {
   "cell_type": "code",
   "execution_count": 1,
   "id": "b87a4911",
   "metadata": {},
   "outputs": [],
   "source": [
    "import numpy as np\n",
    "import pandas as pd\n",
    "import matplotlib as mpl\n",
    "import matplotlib.pyplot as plt\n",
    "import seaborn as sns\n",
    "import scanpy as sc\n",
    "\n",
    "from sys import path\n",
    "from os.path import abspath\n",
    "path.append(abspath(\"/home/ng136/nico\"))\n",
    "import ng_functions as ng\n",
    "\n",
    "from glob import glob\n",
    "from pathlib import Path\n",
    "import warnings\n",
    "from time import time\n",
    "from datetime import datetime\n",
    "from tqdm import tqdm\n",
    "\n",
    "from sklearn.preprocessing import LabelBinarizer\n",
    "from sklearn.metrics import ConfusionMatrixDisplay"
   ]
  },
  {
   "cell_type": "markdown",
   "id": "5ea1eef5",
   "metadata": {},
   "source": [
    "# I/O"
   ]
  },
  {
   "cell_type": "markdown",
   "id": "188a2beb",
   "metadata": {},
   "source": [
    "# Load annotated experiments 2 and 3"
   ]
  },
  {
   "cell_type": "code",
   "execution_count": 3,
   "id": "413e3990",
   "metadata": {},
   "outputs": [],
   "source": [
    "n_states = ['N1a', 'N1b', 'N2', 'N3', 'N4', 'N5', 'N6']\n"
   ]
  },
  {
   "cell_type": "code",
   "execution_count": 4,
   "id": "dcc48d57",
   "metadata": {},
   "outputs": [],
   "source": [
    "n_states_dict = {'N1a' : 'Sell+Ngp+ neutrophils',\n",
    "                 'N1b' : 'Sell+Lst1+ neutrophils',\n",
    "                 'N2' : 'Sell+Cxcl10+ neutrophils',\n",
    "                 'N3' : 'Cxcl3+ neutrophils',\n",
    "                 'N4' : 'Siglecf+Xbp1+ neutrophils',\n",
    "                 'N5' : 'Siglecf+Ccl3+ neutrophils',\n",
    "                 'N6' : 'Siglecf+Ngp+ neutrophils'}\n",
    "\n",
    "neu_palette_dict = {'Sell+Ngp+ neutrophils': '#6EA6CD',\n",
    "                    'Sell+Lst1+ neutrophils': '#4A7BB7',\n",
    "                    'Sell+Cxcl10+ neutrophils': '#364B9A',\n",
    "                    'Cxcl3+ neutrophils': '#EAECCC',\n",
    "                    'Siglecf+Xbp1+ neutrophils': '#A50026',\n",
    "                    'Siglecf+Ccl3+ neutrophils': '#DD3D2D',\n",
    "                    'Siglecf+Ngp+ neutrophils': '#F67E4B'}"
   ]
  },
  {
   "cell_type": "markdown",
   "id": "09e7a128",
   "metadata": {},
   "source": [
    "# GEX"
   ]
  },
  {
   "cell_type": "code",
   "execution_count": 6,
   "id": "eca686ed",
   "metadata": {},
   "outputs": [],
   "source": [
    "ndata = sc.read('/n/groups/klein/nico/neutrophils/backups/totalseq_exp2_all_cells_untreated_annotated_embedding_8404x13126_backup_220325_11h55.h5ad')\n",
    "tdata = sc.read('/n/groups/klein/nico/neutrophils/backups/totalseq_exp3_all_cells_acd40_annotated_embedding_33603x17824_backup_220325_12h01.h5ad')\n",
    "\n",
    "ndata.obs['cell_state_annotation'] = ndata.obs['smoothed_Zilionis']\n",
    "tdata.obs['cell_state_annotation'] = tdata.obs['smoothed_Zilionis']\n",
    "\n",
    "hdata = ndata[ndata.obs.sample_condition.str.startswith('WT')].copy()\n",
    "udata = ndata[ndata.obs.sample_condition.str.startswith('KP19')].copy()\n"
   ]
  },
  {
   "cell_type": "markdown",
   "id": "93fa44f0",
   "metadata": {},
   "source": [
    "# ADT"
   ]
  },
  {
   "cell_type": "code",
   "execution_count": 9,
   "id": "920bc5da",
   "metadata": {},
   "outputs": [],
   "source": [
    "nadtdata = sc.read('/n/groups/klein/nico/neutrophils/backups/totalseq_exp2_all_cells_untreated_adt_clr_no_cd101_6719x20_backup_221215_14h21.h5ad')\n",
    "tadtdata = sc.read('/n/groups/klein/nico/neutrophils/backups/totalseq_exp3_all_cells_treated_adt_clr_33603x20_backup_221215_14h27.h5ad')\n",
    "\n",
    "nadtdata.obs['cell_state_annotation'] = nadtdata.obs['smoothed_Zilionis']\n",
    "tadtdata.obs['cell_state_annotation'] = tadtdata.obs['smoothed_Zilionis']\n",
    "\n",
    "hadtdata = nadtdata[nadtdata.obs.sample_condition.str.startswith('WT')].copy()\n",
    "uadtdata = nadtdata[nadtdata.obs.sample_condition.str.startswith('KP19')].copy()"
   ]
  },
  {
   "cell_type": "markdown",
   "id": "960b4ad1",
   "metadata": {},
   "source": [
    "# SPRING"
   ]
  },
  {
   "cell_type": "markdown",
   "id": "58513b49",
   "metadata": {},
   "source": [
    "# Set up X "
   ]
  },
  {
   "cell_type": "code",
   "execution_count": 10,
   "id": "69d6196d",
   "metadata": {},
   "outputs": [],
   "source": [
    "ndata.X = ndata.layers['cp10k']\n",
    "hdata.X = hdata.layers['cp10k']\n",
    "udata.X = udata.layers['cp10k']\n",
    "tdata.X = tdata.layers['cp10k']\n",
    "\n",
    "nadtdata.X = nadtdata.layers['clr']\n",
    "hadtdata.X = hadtdata.layers['clr']\n",
    "uadtdata.X = uadtdata.layers['clr']\n",
    "tadtdata.X = tadtdata.layers['clr']"
   ]
  },
  {
   "cell_type": "markdown",
   "id": "959aea53",
   "metadata": {},
   "source": [
    "# Set up obs"
   ]
  },
  {
   "cell_type": "code",
   "execution_count": 11,
   "id": "3a5695b7",
   "metadata": {},
   "outputs": [],
   "source": [
    "for adata in [ndata, hdata, udata, tdata]:\n",
    "    adata.obs = adata.obs.loc[:,adata.obs.columns.isin(['n_counts', 'n_genes', 'mito_fraction', \n",
    "                                                        'library_name', 'sample_condition', \n",
    "                                                        'cell_state_annotation'])]\n",
    "    \n",
    "    \n",
    "for adtdata in [nadtdata, hadtdata, uadtdata]:\n",
    "    adtdata.obs = adtdata.obs.loc[:,adtdata.obs.columns.isin(['n_counts', 'n_genes', 'mito_fraction', \n",
    "                                                    'library_name', 'sample_condition', 'CD101_Ab', 'Lair1_Ab',\n",
    "                                                    'cell_state_annotation'])]\n",
    "\n",
    "\n",
    "tadtdata.obs = tadtdata.obs.loc[:,tadtdata.obs.columns.isin(['n_counts', 'n_genes', 'mito_fraction', \n",
    "                                                    'library_name', 'sample_condition', 'Rat_IgG2a_Ab', 'cell_state_annotation'])]\n",
    "    "
   ]
  },
  {
   "cell_type": "markdown",
   "id": "07992185",
   "metadata": {},
   "source": [
    "# SAVE SPRING"
   ]
  },
  {
   "cell_type": "code",
   "execution_count": 15,
   "id": "7a3e465e",
   "metadata": {},
   "outputs": [
    {
     "name": "stdout",
     "output_type": "stream",
     "text": [
      "Writing subplot to /n/groups/klein/nico/neutrophils/spring/221215/all_cells_untreated_gex/gex\n"
     ]
    },
    {
     "name": "stderr",
     "output_type": "stream",
     "text": [
      "/n/groups/klein/nico/neutrophils/analysis/conda-env/lib/python3.8/site-packages/scanpy/external/exporting.py:151: FutureWarning: is_categorical is deprecated and will be removed in a future version.  Use is_categorical_dtype instead\n",
      "  if is_categorical(adata.obs[obs_name]):\n",
      "/n/groups/klein/nico/neutrophils/analysis/conda-env/lib/python3.8/site-packages/scanpy/external/exporting.py:167: FutureWarning: is_categorical is deprecated and will be removed in a future version.  Use is_categorical_dtype instead\n",
      "  if not is_categorical(adata.obs[obs_name]):\n"
     ]
    },
    {
     "name": "stdout",
     "output_type": "stream",
     "text": [
      "Elapsed time: 0 minutes and 26.5 seconds.\n",
      "Writing subplot to /n/groups/klein/nico/neutrophils/spring/221215/all_cells_healthy_gex/gex\n",
      "Elapsed time: 0 minutes and 17.9 seconds.\n",
      "Writing subplot to /n/groups/klein/nico/neutrophils/spring/221215/all_cells_kp19_gex/gex\n",
      "Elapsed time: 0 minutes and 19.7 seconds.\n",
      "Writing subplot to /n/groups/klein/nico/neutrophils/spring/221215/all_cells_acd40_gex/gex\n",
      "Elapsed time: 1 minutes and 32.5 seconds.\n"
     ]
    }
   ],
   "source": [
    "ng.save_spring(ndata, '/n/groups/klein/nico/neutrophils/spring/221215', sample_name='all_cells_untreated_gex', embedding_name='gex')\n",
    "ng.save_spring(hdata, '/n/groups/klein/nico/neutrophils/spring/221215', sample_name='all_cells_healthy_gex', embedding_name='gex')\n",
    "ng.save_spring(udata, '/n/groups/klein/nico/neutrophils/spring/221215', sample_name='all_cells_kp19_gex', embedding_name='gex')\n",
    "ng.save_spring(tdata, '/n/groups/klein/nico/neutrophils/spring/221215', sample_name='all_cells_acd40_gex', embedding_name='gex')"
   ]
  },
  {
   "cell_type": "code",
   "execution_count": 17,
   "id": "a4762927",
   "metadata": {},
   "outputs": [
    {
     "name": "stdout",
     "output_type": "stream",
     "text": [
      "Writing subplot to /n/groups/klein/nico/neutrophils/spring/221215/all_cells_untreated_adt/adt\n",
      "Elapsed time: 0 minutes and 6.0 seconds.\n",
      "Writing subplot to /n/groups/klein/nico/neutrophils/spring/221215/all_cells_healthy_adt/adt\n",
      "Elapsed time: 0 minutes and 3.3 seconds.\n",
      "Writing subplot to /n/groups/klein/nico/neutrophils/spring/221215/all_cells_kp19_adt/adt\n",
      "Elapsed time: 0 minutes and 2.8 seconds.\n",
      "Writing subplot to /n/groups/klein/nico/neutrophils/spring/221215/all_cells_acd40_adt/adt\n",
      "Elapsed time: 0 minutes and 35.3 seconds.\n"
     ]
    }
   ],
   "source": [
    "ng.save_spring(nadtdata, '/n/groups/klein/nico/neutrophils/spring/221215/', sample_name='all_cells_untreated_adt', embedding_name='adt')\n",
    "ng.save_spring(hadtdata, '/n/groups/klein/nico/neutrophils/spring/221215/', sample_name='all_cells_healthy_adt', embedding_name='adt')\n",
    "ng.save_spring(uadtdata, '/n/groups/klein/nico/neutrophils/spring/221215/', sample_name='all_cells_kp19_adt', embedding_name='adt')\n",
    "ng.save_spring(tadtdata, '/n/groups/klein/nico/neutrophils/spring/221215/', sample_name='all_cells_acd40_adt', embedding_name='adt')"
   ]
  },
  {
   "cell_type": "markdown",
   "id": "4eb77f90",
   "metadata": {},
   "source": [
    "# Copy to SPRING directory"
   ]
  },
  {
   "cell_type": "code",
   "execution_count": 18,
   "id": "b131fd37",
   "metadata": {},
   "outputs": [],
   "source": [
    "import shutil\n",
    "import glob"
   ]
  },
  {
   "cell_type": "code",
   "execution_count": 21,
   "id": "769c4382",
   "metadata": {},
   "outputs": [],
   "source": [
    "spring_projects = glob.glob('/n/groups/klein/nico/neutrophils/spring/221215/all_cells_*')"
   ]
  },
  {
   "cell_type": "code",
   "execution_count": 22,
   "id": "fc9ef1c2",
   "metadata": {},
   "outputs": [
    {
     "data": {
      "text/plain": [
       "['/n/groups/klein/nico/neutrophils/spring/all_cells_kp19_gex',\n",
       " '/n/groups/klein/nico/neutrophils/spring/all_cells_untreated_gex',\n",
       " '/n/groups/klein/nico/neutrophils/spring/all_cells_acd40_adt',\n",
       " '/n/groups/klein/nico/neutrophils/spring/all_cells_kp19_adt',\n",
       " '/n/groups/klein/nico/neutrophils/spring/all_cells_untreated_adt',\n",
       " '/n/groups/klein/nico/neutrophils/spring/all_cells_acd40_gex',\n",
       " '/n/groups/klein/nico/neutrophils/spring/all_cells_healthy_gex',\n",
       " '/n/groups/klein/nico/neutrophils/spring/all_cells_healthy_adt']"
      ]
     },
     "execution_count": 22,
     "metadata": {},
     "output_type": "execute_result"
    }
   ],
   "source": [
    "spring_projects"
   ]
  },
  {
   "cell_type": "code",
   "execution_count": 25,
   "id": "b96ca848",
   "metadata": {},
   "outputs": [],
   "source": [
    "for spring in spring_projects:\n",
    "    shutil.copytree(spring, '/n/groups/kleintools/SPRING_private/gungabeesoon22/' + spring.split('/')[-1])\n"
   ]
  }
 ],
 "metadata": {
  "kernelspec": {
   "display_name": "neutrophils_kernel",
   "language": "python",
   "name": "neutrophils_kernel"
  },
  "language_info": {
   "codemirror_mode": {
    "name": "ipython",
    "version": 3
   },
   "file_extension": ".py",
   "mimetype": "text/x-python",
   "name": "python",
   "nbconvert_exporter": "python",
   "pygments_lexer": "ipython3",
   "version": "3.8.13"
  }
 },
 "nbformat": 4,
 "nbformat_minor": 5
}
