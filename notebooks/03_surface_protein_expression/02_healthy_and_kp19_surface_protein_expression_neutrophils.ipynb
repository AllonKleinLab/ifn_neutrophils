{
 "cells": [
  {
   "cell_type": "code",
   "execution_count": 1,
   "id": "0f950bc2",
   "metadata": {},
   "outputs": [],
   "source": [
    "import numpy as np\n",
    "import pandas as pd\n",
    "import matplotlib as mpl\n",
    "import matplotlib.pyplot as plt\n",
    "import seaborn as sns\n",
    "import scanpy as sc\n",
    "\n",
    "from sys import path\n",
    "from os.path import abspath\n",
    "path.append(abspath(\"/home/ng136/nico\"))\n",
    "import ng_functions as ng\n",
    "\n",
    "from glob import glob\n",
    "from pathlib import Path\n",
    "import warnings\n",
    "from time import time\n",
    "from tqdm import tqdm\n",
    "\n",
    "from datetime import datetime"
   ]
  },
  {
   "cell_type": "markdown",
   "id": "01330782",
   "metadata": {},
   "source": [
    "# Load untreated non-CD101-sorted libraries"
   ]
  },
  {
   "cell_type": "code",
   "execution_count": 3,
   "id": "ae14d124",
   "metadata": {},
   "outputs": [],
   "source": [
    "n_states = ['N1a', 'N1b', 'N2', 'N3', 'N4', 'N5', 'N6']\n",
    "\n",
    "adata = sc.read('/n/groups/klein/nico/neutrophils/backups/totalseq_exp2_neutrophils_untreated_annotated_embedding_5258x13126_backup_220422_15h46.h5ad')\n",
    "adata = adata[(adata.obs['smoothed_Zilionis'].isin(n_states)) & (adata.obs['sample_condition'] != 'KP19_CD101')]"
   ]
  },
  {
   "cell_type": "markdown",
   "id": "66933151",
   "metadata": {},
   "source": [
    "# Compute CLR expression"
   ]
  },
  {
   "cell_type": "code",
   "execution_count": 4,
   "id": "9a4964ff",
   "metadata": {},
   "outputs": [],
   "source": [
    "adtdata = sc.AnnData(adata.obs.loc[adata.obs['sample_condition'] != 'KP19_CD101',\n",
    "                                   adata.obs.columns.str.contains('_Ab') & ~adata.obs.columns.isin(['CD101_Ab', 'Lair1_Ab'])])\n",
    "\n",
    "adtdata.obs = adata.obs.loc[adata.obs['sample_condition'] != 'KP19_CD101',~adata.obs.columns.str.contains('_Ab')]\n",
    "                            \n",
    "adtdata.layers['clr'] = ng.clr_transform(adtdata.X)"
   ]
  },
  {
   "cell_type": "markdown",
   "id": "b37d3409",
   "metadata": {},
   "source": [
    "# Inherit embedding from gene expression"
   ]
  },
  {
   "cell_type": "code",
   "execution_count": 6,
   "id": "6082f8cf",
   "metadata": {},
   "outputs": [],
   "source": [
    "adtdata.obsp = adata.obsp.copy()\n",
    "adtdata.obsm = adata.obsm.copy()\n",
    "adtdata.uns = adata.uns.copy()\n"
   ]
  },
  {
   "cell_type": "markdown",
   "id": "759b5bd0",
   "metadata": {},
   "source": [
    "# Save"
   ]
  },
  {
   "cell_type": "code",
   "execution_count": 7,
   "id": "db508203",
   "metadata": {},
   "outputs": [
    {
     "name": "stdout",
     "output_type": "stream",
     "text": [
      "/n/groups/klein/nico/neutrophils/backups/totalseq_exp2_neutrophils_untreated_adt_clr_no_cd101_3978x20_backup_220601_04h57.h5ad\n",
      "Elapsed time: 0 minutes and 0.1 seconds.\n"
     ]
    }
   ],
   "source": [
    "start = time()\n",
    "fname = '/n/groups/klein/nico/neutrophils/backups/totalseq_exp2_neutrophils_untreated_adt_clr_no_cd101_{}x{}_backup_{}.h5ad'.format(*adtdata.shape,ng.now())\n",
    "adtdata.write(fname)\n",
    "print(fname)\n",
    "ng.print_etime(start)"
   ]
  },
  {
   "cell_type": "code",
   "execution_count": null,
   "id": "df835a25",
   "metadata": {},
   "outputs": [],
   "source": []
  }
 ],
 "metadata": {
  "kernelspec": {
   "display_name": "neutrophils_kernel",
   "language": "python",
   "name": "neutrophils_kernel"
  },
  "language_info": {
   "codemirror_mode": {
    "name": "ipython",
    "version": 3
   },
   "file_extension": ".py",
   "mimetype": "text/x-python",
   "name": "python",
   "nbconvert_exporter": "python",
   "pygments_lexer": "ipython3",
   "version": "3.8.13"
  }
 },
 "nbformat": 4,
 "nbformat_minor": 5
}
