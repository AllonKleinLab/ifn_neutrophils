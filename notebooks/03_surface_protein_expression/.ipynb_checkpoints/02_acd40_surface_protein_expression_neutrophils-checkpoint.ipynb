{
 "cells": [
  {
   "cell_type": "code",
   "execution_count": 1,
   "id": "282fb472",
   "metadata": {},
   "outputs": [],
   "source": [
    "import numpy as np\n",
    "import pandas as pd\n",
    "import matplotlib as mpl\n",
    "import matplotlib.pyplot as plt\n",
    "import seaborn as sns\n",
    "import scanpy as sc\n",
    "\n",
    "from sys import path\n",
    "from os.path import abspath\n",
    "path.append(abspath(\"/home/ng136/nico\"))\n",
    "import ng_functions as ng\n",
    "\n",
    "from glob import glob\n",
    "from pathlib import Path\n",
    "import warnings\n",
    "from time import time\n",
    "from tqdm import tqdm\n",
    "\n",
    "from datetime import datetime"
   ]
  },
  {
   "cell_type": "markdown",
   "id": "6b6212bd",
   "metadata": {},
   "source": [
    "# Load treated libraries"
   ]
  },
  {
   "cell_type": "code",
   "execution_count": 3,
   "id": "f9f99476",
   "metadata": {},
   "outputs": [],
   "source": [
    "n_states = ['N1a', 'N1b', 'N2', 'N3', 'N4', 'N5', 'N6']\n",
    "\n",
    "adata = sc.read('/n/groups/klein/nico/neutrophils/backups/totalseq_exp3_neutrophils_acd40_annotated_embedding_25210x17824_backup_220422_15h46.h5ad')\n",
    "adata = adata[(adata.obs['smoothed_Zilionis'].isin(n_states))]"
   ]
  },
  {
   "cell_type": "markdown",
   "id": "e02cb583",
   "metadata": {},
   "source": [
    "# Compute CLR expression"
   ]
  },
  {
   "cell_type": "code",
   "execution_count": 4,
   "id": "a728adc3",
   "metadata": {},
   "outputs": [],
   "source": [
    "adtdata = sc.AnnData(adata.obs.loc[adata.obs['sample_condition'] != 'KP19_CD101',\n",
    "                                   adata.obs.columns.str.contains('_Ab') & ~adata.obs.columns.isin(['CD101_Ab', 'Lair1_Ab', 'Rat_IgG2a_Ab'])])\n",
    "\n",
    "adtdata.obs = adata.obs.loc[adata.obs['sample_condition'] != 'KP19_CD101',~adata.obs.columns.str.contains('_Ab')]\n",
    "                            \n",
    "adtdata.layers['clr'] = ng.clr_transform(adtdata.X)"
   ]
  },
  {
   "cell_type": "markdown",
   "id": "ab11e73f",
   "metadata": {},
   "source": [
    "# Inherit embedding from gene expression"
   ]
  },
  {
   "cell_type": "code",
   "execution_count": 6,
   "id": "975cd3f7",
   "metadata": {},
   "outputs": [],
   "source": [
    "adtdata.obsp = adata.obsp.copy()\n",
    "adtdata.obsm = adata.obsm.copy()\n",
    "adtdata.uns = adata.uns.copy()\n"
   ]
  },
  {
   "cell_type": "markdown",
   "id": "877653c2",
   "metadata": {},
   "source": [
    "# Save"
   ]
  },
  {
   "cell_type": "code",
   "execution_count": 7,
   "id": "90e5dad9",
   "metadata": {},
   "outputs": [
    {
     "name": "stdout",
     "output_type": "stream",
     "text": [
      "/n/groups/klein/nico/neutrophils/backups/totalseq_exp3_neutrophils_treated_adt_clr_25210x20_backup_220601_05h05.h5ad\n",
      "Elapsed time: 0 minutes and 0.3 seconds.\n"
     ]
    }
   ],
   "source": [
    "start = time()\n",
    "fname = '/n/groups/klein/nico/neutrophils/backups/totalseq_exp3_neutrophils_treated_adt_clr_{}x{}_backup_{}.h5ad'.format(*adtdata.shape,ng.now())\n",
    "adtdata.write(fname)\n",
    "print(fname)\n",
    "ng.print_etime(start)"
   ]
  }
 ],
 "metadata": {
  "kernelspec": {
   "display_name": "neutrophils_kernel",
   "language": "python",
   "name": "neutrophils_kernel"
  },
  "language_info": {
   "codemirror_mode": {
    "name": "ipython",
    "version": 3
   },
   "file_extension": ".py",
   "mimetype": "text/x-python",
   "name": "python",
   "nbconvert_exporter": "python",
   "pygments_lexer": "ipython3",
   "version": "3.8.13"
  }
 },
 "nbformat": 4,
 "nbformat_minor": 5
}
