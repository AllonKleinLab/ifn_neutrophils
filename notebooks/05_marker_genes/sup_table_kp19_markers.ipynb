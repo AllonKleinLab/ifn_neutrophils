{
 "cells": [
  {
   "cell_type": "code",
   "execution_count": 1,
   "id": "cc4caad8",
   "metadata": {},
   "outputs": [],
   "source": [
    "import numpy as np\n",
    "import pandas as pd\n",
    "import matplotlib as mpl\n",
    "import matplotlib.pyplot as plt\n",
    "import seaborn as sns\n",
    "import scanpy as sc\n",
    "\n",
    "from sys import path\n",
    "from os.path import abspath\n",
    "from os import makedirs\n",
    "path.append(abspath(\"/home/ng136/nico\"))\n",
    "import ng_functions as ng\n",
    "\n",
    "from glob import glob\n",
    "from pathlib import Path\n",
    "import warnings\n",
    "from time import time\n",
    "from datetime import datetime\n",
    "from tqdm import tqdm\n",
    "import gseapy\n",
    "import json"
   ]
  },
  {
   "cell_type": "markdown",
   "id": "e7f1942d",
   "metadata": {},
   "source": [
    "# Load data and metadata"
   ]
  },
  {
   "cell_type": "code",
   "execution_count": 3,
   "id": "0ce9d11a",
   "metadata": {},
   "outputs": [],
   "source": [
    "n_states = ['N1a', 'N1b', 'N2', 'N3', 'N4', 'N5', 'N6']"
   ]
  },
  {
   "cell_type": "code",
   "execution_count": 4,
   "id": "a988cdf8",
   "metadata": {},
   "outputs": [],
   "source": [
    "n_states_dict = {'N1a' : 'Sell+Ngp+ neutrophils',\n",
    "                 'N1b' : 'Sell+Lst1+ neutrophils',\n",
    "                 'N2' : 'Sell+Cxcl10+ neutrophils',\n",
    "                 'N3' : 'Cxcl3+ neutrophils',\n",
    "                 'N4' : 'Siglecf+Xbp1+ neutrophils',\n",
    "                 'N5' : 'Siglecf+Ccl3+ neutrophils',\n",
    "                 'N6' : 'Siglecf+Ngp+ neutrophils'}\n",
    "\n",
    "neu_palette_dict = {'Sell+Ngp+ neutrophils': '#6EA6CD',\n",
    "                    'Sell+Lst1+ neutrophils': '#4A7BB7',\n",
    "                    'Sell+Cxcl10+ neutrophils': '#364B9A',\n",
    "                    'Cxcl3+ neutrophils': '#EAECCC',\n",
    "                    'Siglecf+Xbp1+ neutrophils': '#A50026',\n",
    "                    'Siglecf+Ccl3+ neutrophils': '#DD3D2D',\n",
    "                    'Siglecf+Ngp+ neutrophils': '#F67E4B'}"
   ]
  },
  {
   "cell_type": "code",
   "execution_count": 8,
   "id": "5debb6ab",
   "metadata": {},
   "outputs": [],
   "source": [
    "ndata = sc.read('/n/groups/klein/nico/neutrophils/backups/totalseq_exp2_neutrophils_untreated_annotated_embedding_5258x13126_backup_220422_15h46.h5ad')\n",
    "udata = ndata[ndata.obs.sample_condition.str.startswith('KP19')].copy()"
   ]
  },
  {
   "cell_type": "code",
   "execution_count": 10,
   "id": "995479ad",
   "metadata": {},
   "outputs": [],
   "source": [
    "sc.tl.rank_genes_groups(udata, groupby='smoothed_Zilionis', \n",
    "                        method='wilcoxon', use_raw=False, \n",
    "                        layer='log1p', key_added='wilcoxon_subsets')\n"
   ]
  },
  {
   "cell_type": "markdown",
   "id": "b505c467",
   "metadata": {},
   "source": [
    "# Generate matrix"
   ]
  },
  {
   "cell_type": "code",
   "execution_count": 11,
   "id": "94c678c1",
   "metadata": {},
   "outputs": [],
   "source": [
    "def second_largest(df):\n",
    "    return (df.nlargest(2).min())"
   ]
  },
  {
   "cell_type": "code",
   "execution_count": 17,
   "id": "7291dcf7",
   "metadata": {},
   "outputs": [],
   "source": [
    "fc_gene_list = {}\n",
    "dge_tables = {}\n",
    "\n",
    "for state in n_states:\n",
    "    enrichments = sc.get.rank_genes_groups_df(udata, group= state, \n",
    "                                        key='wilcoxon_subsets', log2fc_min=0.25,\n",
    "                                        pval_cutoff=0.01).sort_values('logfoldchanges', ascending=False)\n",
    "\n",
    "    marker_exp = ng.groupby_aggregate(udata, ['smoothed_Zilionis', 'library_name'], f=np.mean, layer='cp10k', return_df=True, var_names=enrichments['names']).groupby(['smoothed_Zilionis']).mean()\n",
    "    \n",
    "    marker_logfc = np.log2((marker_exp + 1).divide((marker_exp.apply(second_largest) +1), axis=1))\n",
    "    \n",
    "    fc_gene_list[state] = marker_logfc.sort_values(state, axis=1, ascending=False)\n",
    "    \n",
    "    \n",
    "    dge_tables[state] = fc_gene_list[state].T.join(enrichments.set_index('names')).loc[:,[state, 'scores', 'pvals', 'pvals_adj']].rename({state:'log2_fold_change_max_to_2nd_max',\n",
    "                                                                                                                  'scores': 'standardized_U_statistic_MWU',\n",
    "                                                                                                                  'pvals' : 'p_value_MWU',\n",
    "                                                                                                                  'pvals_adj': 'FDR'},axis=1).sort_values('log2_fold_change_max_to_2nd_max', ascending=False)\n",
    "\n",
    "    dge_tables[state]['enriched_in'] = state\n",
    "    dge_tables[state]['shown_in_Fig2'] = min(100, len(dge_tables[state]))*[True] + max(0, len(dge_tables[state])-100)*[False]\n",
    "    \n",
    "    \n",
    "    fc_gene_list[state] = fc_gene_list[state].columns"
   ]
  },
  {
   "cell_type": "markdown",
   "id": "45902c79",
   "metadata": {},
   "source": [
    "# Export table"
   ]
  },
  {
   "cell_type": "code",
   "execution_count": 20,
   "id": "12befffa",
   "metadata": {},
   "outputs": [],
   "source": [
    "supplementary_table = pd.concat([dge_tables[state][dge_tables[state]['log2_fold_change_max_to_2nd_max'] >= 0.1375] for state in n_states])"
   ]
  },
  {
   "cell_type": "code",
   "execution_count": 26,
   "id": "30dd9459",
   "metadata": {},
   "outputs": [],
   "source": [
    "supplementary_table.to_csv('fig2b_untreated_supplementary_table.csv')"
   ]
  }
 ],
 "metadata": {
  "kernelspec": {
   "display_name": "neutrophils_kernel",
   "language": "python",
   "name": "neutrophils_kernel"
  },
  "language_info": {
   "codemirror_mode": {
    "name": "ipython",
    "version": 3
   },
   "file_extension": ".py",
   "mimetype": "text/x-python",
   "name": "python",
   "nbconvert_exporter": "python",
   "pygments_lexer": "ipython3",
   "version": "3.8.13"
  }
 },
 "nbformat": 4,
 "nbformat_minor": 5
}
