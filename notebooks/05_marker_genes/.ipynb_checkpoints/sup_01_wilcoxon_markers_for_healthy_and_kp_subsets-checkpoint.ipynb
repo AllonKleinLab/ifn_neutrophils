{
 "cells": [
  {
   "cell_type": "code",
   "execution_count": 1,
   "id": "e1c1246d",
   "metadata": {},
   "outputs": [],
   "source": [
    "import numpy as np\n",
    "import pandas as pd\n",
    "import matplotlib as mpl\n",
    "import matplotlib.pyplot as plt\n",
    "import seaborn as sns\n",
    "import scanpy as sc\n",
    "\n",
    "from sys import path\n",
    "from os.path import abspath\n",
    "path.append(abspath(\"/home/ng136/nico\"))\n",
    "import ng_functions as ng\n",
    "\n",
    "from glob import glob\n",
    "from pathlib import Path\n",
    "import warnings\n",
    "from time import time\n",
    "from tqdm import tqdm"
   ]
  },
  {
   "cell_type": "markdown",
   "id": "32bfbc19",
   "metadata": {},
   "source": [
    "# Load annotated untreated data"
   ]
  },
  {
   "cell_type": "code",
   "execution_count": 2,
   "id": "805b4c58",
   "metadata": {},
   "outputs": [],
   "source": [
    "ndata = sc.read(\"/n/groups/klein/nico/neutrophils/backups/totalseq_exp2_neutrophils_untreated_annotated_embedding_5258x13126_backup_220422_15h46.h5ad\")\n",
    "ndata.layers['umi'] = ndata.X.copy()\n",
    "ndata.X = ndata.layers['log1p'].copy()"
   ]
  },
  {
   "cell_type": "markdown",
   "id": "cc3f860e",
   "metadata": {},
   "source": [
    "# Filter out non-neutrophils"
   ]
  },
  {
   "cell_type": "code",
   "execution_count": 3,
   "id": "350a1c0a",
   "metadata": {},
   "outputs": [],
   "source": [
    "n_states = ['N1a', 'N1b', 'N2', 'N3', 'N4', 'N5', 'N6']"
   ]
  },
  {
   "cell_type": "code",
   "execution_count": 4,
   "id": "4e22f441",
   "metadata": {},
   "outputs": [],
   "source": [
    "ndata = ndata[ndata.obs['smoothed_Zilionis'].isin(n_states)].copy()"
   ]
  },
  {
   "cell_type": "markdown",
   "id": "037a532d",
   "metadata": {},
   "source": [
    "# Find markers that best differentiate N1a~N6 populations\n",
    "* Filter markers:\n",
    "        FC > 2\n",
    "        Positive expression in ≥ 10% of each group\n",
    "        Negative expression in ≥ 50% of other groups\n",
    "        Appear in the top 500 (in terms of p_adj) for exactly one state\n",
    "        \n",
    "        "
   ]
  },
  {
   "cell_type": "code",
   "execution_count": 5,
   "id": "d0265db4",
   "metadata": {},
   "outputs": [],
   "source": [
    "sc.tl.rank_genes_groups(ndata, groupby='smoothed_Zilionis', method='wilcoxon', use_raw=False, layer='log1p', key_added='wilcoxon_untreated_markers', groups = n_states)"
   ]
  },
  {
   "cell_type": "code",
   "execution_count": 6,
   "id": "2af6884a",
   "metadata": {},
   "outputs": [],
   "source": [
    "# filter markers\n",
    "sc.tl.filter_rank_genes_groups(ndata, min_fold_change=2, min_in_group_fraction=0.1, max_out_group_fraction=0.5, \n",
    "                               key='wilcoxon_untreated_markers', key_added='wilcoxon_untreated_markers_filtered')\n",
    "\n",
    "# top 500 markers from each label\n",
    "markers_raw = pd.DataFrame(ndata.uns['wilcoxon_untreated_markers_filtered']['names']).head(500)\n",
    "\n",
    "# filter markers found in top 500 of other subsets\n",
    "duplicated_markers = markers_raw.values.reshape(-1)[pd.Series(markers_raw.values.reshape(-1)).duplicated(keep=False)]\n",
    "\n",
    "# top 5 non duplicated markers that fulfill all previous filters for each label\n",
    "untreated_markers = {k:[v0 for v0 in v if (v0 not in duplicated_markers) and isinstance(v0, str)][:5] for k,v in markers_raw.to_dict('list').items()}\n",
    "\n",
    "untreated_markers_all = sum([*untreated_markers.values()],[])"
   ]
  },
  {
   "cell_type": "code",
   "execution_count": 7,
   "id": "b3d56cda",
   "metadata": {},
   "outputs": [
    {
     "data": {
      "text/plain": [
       "{'N1a': ['Wfdc21', 'Lcn2', 'Tmcc1', 'Mmp8'],\n",
       " 'N1b': ['S100a6', 'Dusp1', 'Klf2', 'Taldo1', 'Lsp1'],\n",
       " 'N2': ['Ifitm3', 'Isg15', 'Rsad2', 'Mxd1', 'Trim30a'],\n",
       " 'N3': ['Ier3', 'Cxcl2', 'G0s2', 'Wfdc17', 'Tgm2'],\n",
       " 'N4': ['Mrpl52', 'Rps29', 'Rps21', 'Rps26', 'AA467197'],\n",
       " 'N5': ['Cstb', 'Ccl3', 'Atp6v0c', 'Cd63', 'Psap'],\n",
       " 'N6': ['Lyz2', 'mt-Atp6', 'mt-Co2', 'mt-Co3', 'mt-Co1']}"
      ]
     },
     "execution_count": 7,
     "metadata": {},
     "output_type": "execute_result"
    }
   ],
   "source": [
    "untreated_markers"
   ]
  }
 ],
 "metadata": {
  "kernelspec": {
   "display_name": "neutrophils_kernel",
   "language": "python",
   "name": "neutrophils_kernel"
  },
  "language_info": {
   "codemirror_mode": {
    "name": "ipython",
    "version": 3
   },
   "file_extension": ".py",
   "mimetype": "text/x-python",
   "name": "python",
   "nbconvert_exporter": "python",
   "pygments_lexer": "ipython3",
   "version": "3.8.13"
  }
 },
 "nbformat": 4,
 "nbformat_minor": 5
}
