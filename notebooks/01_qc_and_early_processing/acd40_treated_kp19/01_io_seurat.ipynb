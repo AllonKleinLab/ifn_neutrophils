{
 "cells": [
  {
   "cell_type": "code",
   "execution_count": 2,
   "id": "d7c2831c",
   "metadata": {},
   "outputs": [
    {
     "name": "stderr",
     "output_type": "stream",
     "text": [
      "Registered S3 method overwritten by 'cli':\n",
      "  method     from         \n",
      "  print.boxx spatstat.geom\n",
      "\n",
      "Registered S3 method overwritten by 'SeuratDisk':\n",
      "  method            from  \n",
      "  as.sparse.H5Group Seurat\n",
      "\n"
     ]
    }
   ],
   "source": [
    ".libPaths(\"/n/groups/klein/nico/neutrophils/analysis/conda-env/lib/R/library\")\n",
    "library(htmltools)\n",
    "library(Rcpp)\n",
    "library(Seurat)\n",
    "library(SeuratDisk)\n",
    "library(tidyverse)"
   ]
  },
  {
   "cell_type": "markdown",
   "id": "deefe2a8",
   "metadata": {},
   "source": [
    "# Load _.RData_ file"
   ]
  },
  {
   "cell_type": "code",
   "execution_count": 3,
   "id": "876468f6",
   "metadata": {},
   "outputs": [],
   "source": [
    "load('/home/ng136/scratch3/neutrophils/neutrophils_totalseq_aCD40/merged_matrix_annot_all.RData')"
   ]
  },
  {
   "cell_type": "code",
   "execution_count": 8,
   "id": "66364757",
   "metadata": {},
   "outputs": [
    {
     "name": "stderr",
     "output_type": "stream",
     "text": [
      "Warning message:\n",
      "“Feature names cannot have underscores ('_'), replacing with dashes ('-')”\n",
      "Warning message:\n",
      "“Feature names cannot have underscores ('_'), replacing with dashes ('-')”\n"
     ]
    }
   ],
   "source": [
    "sdata <- CreateSeuratObject(counts = matrix.gex, meta.data = clin)\n",
    "sdata[[\"RNA\"]] <- AddMetaData(object = sdata[[\"RNA\"]], metadata = data.frame(gene.annot, row.names = str_replace(rownames(gene.annot), pattern = '_', replace = '-')))\n",
    "sdata[[\"ADT\"]] <- CreateAssayObject(counts = matrix.abc)\n",
    "sdata[[\"ADT\"]] <- AddMetaData(object = sdata[[\"ADT\"]], metadata = data.frame(annot2, row.names = str_replace(rownames(annot2), pattern = '_', replace = '-')))\n",
    "sdata[[\"MUX\"]] <- CreateAssayObject(counts = matrix.mux)\n"
   ]
  },
  {
   "cell_type": "markdown",
   "id": "18a967c0",
   "metadata": {},
   "source": [
    "# Export"
   ]
  },
  {
   "cell_type": "code",
   "execution_count": 10,
   "id": "ed19e2eb",
   "metadata": {},
   "outputs": [
    {
     "name": "stderr",
     "output_type": "stream",
     "text": [
      "Creating h5Seurat file for version 3.1.5.9900\n",
      "\n",
      "Adding counts for RNA\n",
      "\n",
      "Adding data for RNA\n",
      "\n",
      "No variable features found for RNA\n",
      "\n",
      "Adding feature-level metadata for RNA\n",
      "\n",
      "Adding counts for ADT\n",
      "\n",
      "Adding data for ADT\n",
      "\n",
      "No variable features found for ADT\n",
      "\n",
      "Adding feature-level metadata for ADT\n",
      "\n",
      "Adding counts for MUX\n",
      "\n",
      "Adding data for MUX\n",
      "\n",
      "No variable features found for MUX\n",
      "\n",
      "No feature-level metadata found for MUX\n",
      "\n",
      "Validating h5Seurat file\n",
      "\n",
      "Adding data from RNA as X\n",
      "\n",
      "Transfering meta.features to var\n",
      "\n",
      "Adding counts from RNA as raw\n",
      "\n",
      "Transfering meta.features to raw/var\n",
      "\n",
      "Transfering meta.data to obs\n",
      "\n",
      "Validating h5Seurat file\n",
      "\n",
      "Adding data from ADT as X\n",
      "\n",
      "Transfering meta.features to var\n",
      "\n",
      "Adding counts from ADT as raw\n",
      "\n",
      "Transfering meta.features to raw/var\n",
      "\n",
      "Transfering meta.data to obs\n",
      "\n",
      "Validating h5Seurat file\n",
      "\n",
      "Adding data from MUX as X\n",
      "\n",
      "Adding counts from MUX as raw\n",
      "\n",
      "Transfering meta.data to obs\n",
      "\n"
     ]
    }
   ],
   "source": [
    "SaveH5Seurat(sdata, filename = \"/n/groups/klein/nico/neutrophils/data/exp3_totalseq_acd40/neutrophils_totalseq_aCD40.h5Seurat\", overwrite = TRUE)\n",
    "Convert(\"/n/groups/klein/nico/neutrophils/data/exp3_totalseq_acd40/neutrophils_totalseq_aCD40.h5Seurat\", dest = \"/n/groups/klein/nico/neutrophils/data/exp3_totalseq_acd40/neutrophils_totalseq_aCD40_rna.h5ad\", assay = \"RNA\", overwrite = TRUE)\n",
    "Convert(\"/n/groups/klein/nico/neutrophils/data/exp3_totalseq_acd40/neutrophils_totalseq_aCD40.h5Seurat\", dest = \"/n/groups/klein/nico/neutrophils/data/exp3_totalseq_acd40/neutrophils_totalseq_aCD40_adt.h5ad\", assay = \"ADT\", overwrite = TRUE)\n",
    "Convert(\"/n/groups/klein/nico/neutrophils/data/exp3_totalseq_acd40/neutrophils_totalseq_aCD40.h5Seurat\", dest = \"/n/groups/klein/nico/neutrophils/data/exp3_totalseq_acd40/neutrophils_totalseq_aCD40_mux.h5ad\", assay = \"MUX\", overwrite = TRUE)"
   ]
  }
 ],
 "metadata": {
  "kernelspec": {
   "display_name": "neutrophils_kernel_r",
   "language": "R",
   "name": "neutrophils_kernel_r"
  },
  "language_info": {
   "codemirror_mode": "r",
   "file_extension": ".r",
   "mimetype": "text/x-r-source",
   "name": "R",
   "pygments_lexer": "r",
   "version": "4.1.1"
  }
 },
 "nbformat": 4,
 "nbformat_minor": 5
}
