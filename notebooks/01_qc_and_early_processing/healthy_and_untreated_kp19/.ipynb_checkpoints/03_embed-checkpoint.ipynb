{
 "cells": [
  {
   "cell_type": "code",
   "execution_count": 1,
   "id": "6e2298c9",
   "metadata": {},
   "outputs": [],
   "source": [
    "import numpy as np\n",
    "import pandas as pd\n",
    "import matplotlib as mpl\n",
    "import matplotlib.pyplot as plt\n",
    "import seaborn as sns\n",
    "import scanpy as sc\n",
    "\n",
    "from sys import path\n",
    "from os.path import abspath\n",
    "from os import environ\n",
    "path.append(abspath(\"/home/ng136/nico\"))\n",
    "environ['R_HOME'] = '/home/ng136/nico/neutrophils/analysis/conda-env/lib/R' #path to your R installation\n",
    "rlib_loc=\"/n/groups/klein/nico/neutrophils/analysis/conda-env/lib/R/library\" #path to R libraries\n",
    "import ng_functions as ng\n",
    "\n",
    "from glob import glob\n",
    "from pathlib import Path\n",
    "import warnings\n",
    "from time import time\n",
    "from datetime import datetime\n",
    "from tqdm import tqdm"
   ]
  },
  {
   "cell_type": "markdown",
   "id": "39b6b642",
   "metadata": {},
   "source": [
    "# Load experiment 2"
   ]
  },
  {
   "cell_type": "code",
   "execution_count": 3,
   "id": "e1eccf99",
   "metadata": {},
   "outputs": [],
   "source": [
    "adata = sc.read('/n/groups/klein/nico/neutrophils/backups/totalseq_exp2_neutrophils_untreated_8404x32285_backup_211208_11h04.h5ad')"
   ]
  },
  {
   "cell_type": "markdown",
   "id": "62009c2b",
   "metadata": {},
   "source": [
    "# Expression layers"
   ]
  },
  {
   "cell_type": "code",
   "execution_count": 4,
   "id": "77b36768",
   "metadata": {},
   "outputs": [
    {
     "name": "stderr",
     "output_type": "stream",
     "text": [
      "R[write to console]: Renaming default assay from originalexp to RNA\n",
      "\n"
     ]
    },
    {
     "name": "stdout",
     "output_type": "stream",
     "text": [
      "Elapsed time: 3 minutes and 5.4 seconds.\n"
     ]
    }
   ],
   "source": [
    "start = time()\n",
    "\n",
    "uns_backup = adata.uns # remove uns to convert to Seurat object\n",
    "del adata.uns\n",
    "\n",
    "# apply sct v1\n",
    "adata = ng.sctransform(adata, hvg=False, rlib_loc=\"/n/groups/klein/nico/neutrophils/analysis/conda-env/lib/R/library\", min_cells=3, \n",
    "                       copy=True, n_genes=8000, verbose=False, correct_umi=True, v2_flavor=False)\n",
    "\n",
    "# norm cp10k\n",
    "adata.layers['cp10k'] = sc.pp.normalize_total(adata, target_sum=1e4, inplace=False)['X']\n",
    "\n",
    "# log(1 + cp10k)\n",
    "adata.layers['log1p'] = adata.layers['cp10k'].copy()\n",
    "sc.pp.log1p(adata, layer='log1p')\n",
    "\n",
    "# z_score log(1 + cp10k)\n",
    "adata.layers['scaled'] = adata.layers['log1p'].copy()\n",
    "sc.pp.scale(adata, layer='scaled')\n",
    "\n",
    "adata.uns.update(uns_backup)\n",
    "\n",
    "ng.print_etime(start)"
   ]
  },
  {
   "cell_type": "markdown",
   "id": "0cd8ed31",
   "metadata": {},
   "source": [
    "# PCA, KNN, UMAP, cell cycle genes"
   ]
  },
  {
   "cell_type": "code",
   "execution_count": 5,
   "id": "41c02fc0",
   "metadata": {},
   "outputs": [
    {
     "name": "stdout",
     "output_type": "stream",
     "text": [
      "Elapsed time: 0 minutes and 22.0 seconds.\n",
      "Elapsed time: 0 minutes and 48.4 seconds.\n",
      "Elapsed time: 1 minutes and 14.0 seconds.\n"
     ]
    }
   ],
   "source": [
    "start = time()\n",
    "\n",
    "pca_genes = (adata.var['highly_variable'])\n",
    "n_pcs = 50\n",
    "adata.uns['pca'] = {}\n",
    "adata.obsm['X_pca'], pca_loadings, adata.uns['pca']['variance_ratio'], adata.uns['pca']['variance'] = sc.tl.pca(adata.layers['sct'][:,pca_genes],\n",
    "                                                                                                                svd_solver = 'arpack', n_comps = n_pcs, return_info=True) \n",
    "\n",
    "ng.print_etime(start)\n",
    "\n",
    "# expand PC loading matrix to include non-HVG rows filled with zeros\n",
    "pca_loadings_all = (adata.var.join(pd.DataFrame(pca_loadings.T, index=adata.var_names[pca_genes]))).iloc[:,-n_pcs:].fillna(0).values\n",
    "\n",
    "adata.varm['PCs'] = pca_loadings_all\n",
    "\n",
    "sc.pp.neighbors(adata, n_neighbors=15, use_rep='X_pca') #default\n",
    "ng.print_etime(start)\n",
    "sc.tl.umap(adata)\n",
    "ng.print_etime(start)"
   ]
  },
  {
   "cell_type": "markdown",
   "id": "e064b117",
   "metadata": {},
   "source": [
    "# Save"
   ]
  },
  {
   "cell_type": "code",
   "execution_count": 10,
   "id": "2a16f8c5",
   "metadata": {},
   "outputs": [
    {
     "name": "stdout",
     "output_type": "stream",
     "text": [
      "/n/groups/klein/nico/neutrophils/backups/totalseq_exp2_all_cells_untreated_embedding_8404x13126_backup_220314_15h25.h5ad\n",
      "Elapsed time: 0 minutes and 7.2 seconds.\n"
     ]
    }
   ],
   "source": [
    "start = time()\n",
    "fname = '/n/groups/klein/nico/neutrophils/backups/totalseq_exp2_all_cells_untreated_embedding_{}x{}_backup_{}.h5ad'.format(*adata.shape,ng.now())\n",
    "adata.write(fname)\n",
    "print(fname)\n",
    "ng.print_etime(start)"
   ]
  },
  {
   "cell_type": "code",
   "execution_count": null,
   "id": "3041a0c9",
   "metadata": {},
   "outputs": [],
   "source": []
  }
 ],
 "metadata": {
  "kernelspec": {
   "display_name": "neutrophils_kernel",
   "language": "python",
   "name": "neutrophils_kernel"
  },
  "language_info": {
   "codemirror_mode": {
    "name": "ipython",
    "version": 3
   },
   "file_extension": ".py",
   "mimetype": "text/x-python",
   "name": "python",
   "nbconvert_exporter": "python",
   "pygments_lexer": "ipython3",
   "version": "3.8.13"
  }
 },
 "nbformat": 4,
 "nbformat_minor": 5
}
