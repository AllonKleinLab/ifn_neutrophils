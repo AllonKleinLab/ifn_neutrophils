{
 "cells": [
  {
   "cell_type": "code",
   "execution_count": 1,
   "id": "a173a955",
   "metadata": {},
   "outputs": [
    {
     "name": "stderr",
     "output_type": "stream",
     "text": [
      "── \u001b[1mAttaching packages\u001b[22m ─────────────────────────────────────── tidyverse 1.3.0 ──\n",
      "\n",
      "\u001b[32m✔\u001b[39m \u001b[34mggplot2\u001b[39m 3.3.2     \u001b[32m✔\u001b[39m \u001b[34mpurrr  \u001b[39m 0.3.4\n",
      "\u001b[32m✔\u001b[39m \u001b[34mtibble \u001b[39m 3.0.4     \u001b[32m✔\u001b[39m \u001b[34mdplyr  \u001b[39m 1.0.2\n",
      "\u001b[32m✔\u001b[39m \u001b[34mtidyr  \u001b[39m 1.1.2     \u001b[32m✔\u001b[39m \u001b[34mstringr\u001b[39m 1.4.0\n",
      "\u001b[32m✔\u001b[39m \u001b[34mreadr  \u001b[39m 1.4.0     \u001b[32m✔\u001b[39m \u001b[34mforcats\u001b[39m 0.5.0\n",
      "\n",
      "── \u001b[1mConflicts\u001b[22m ────────────────────────────────────────── tidyverse_conflicts() ──\n",
      "\u001b[31m✖\u001b[39m \u001b[34mdplyr\u001b[39m::\u001b[32mfilter()\u001b[39m masks \u001b[34mstats\u001b[39m::filter()\n",
      "\u001b[31m✖\u001b[39m \u001b[34mdplyr\u001b[39m::\u001b[32mlag()\u001b[39m    masks \u001b[34mstats\u001b[39m::lag()\n",
      "\n",
      "Registered S3 method overwritten by 'spatstat.geom':\n",
      "  method     from\n",
      "  print.boxx cli \n",
      "\n",
      "Attaching SeuratObject\n",
      "\n",
      "Registered S3 method overwritten by 'SeuratDisk':\n",
      "  method            from  \n",
      "  as.sparse.H5Group Seurat\n",
      "\n"
     ]
    }
   ],
   "source": [
    "library(tidyverse)\n",
    "library(Seurat)\n",
    "library(SeuratDisk)"
   ]
  },
  {
   "cell_type": "markdown",
   "id": "49a0fa31",
   "metadata": {},
   "source": [
    "# Load _.RData_ file"
   ]
  },
  {
   "cell_type": "code",
   "execution_count": 2,
   "id": "9ee5ca7b",
   "metadata": {},
   "outputs": [],
   "source": [
    "load('~/scratch3/neutrophils/neutrophils_totalseq_01292021/merged_matrix_annot_all.RData')"
   ]
  },
  {
   "cell_type": "code",
   "execution_count": 3,
   "id": "86a84871",
   "metadata": {},
   "outputs": [
    {
     "name": "stderr",
     "output_type": "stream",
     "text": [
      "Warning message:\n",
      "“Feature names cannot have underscores ('_'), replacing with dashes ('-')”\n",
      "Warning message:\n",
      "“Feature names cannot have underscores ('_'), replacing with dashes ('-')”\n"
     ]
    }
   ],
   "source": [
    "sdata <- CreateSeuratObject(counts = matrix.gex, meta.data = clin)\n",
    "sdata[[\"RNA\"]] <- AddMetaData(object = sdata[[\"RNA\"]], metadata = data.frame(gene.annot, row.names = str_replace(rownames(gene.annot), pattern = '_', replace = '-')))\n",
    "sdata[[\"ADT\"]] <- CreateAssayObject(counts = matrix.abc)\n",
    "sdata[[\"ADT\"]] <- AddMetaData(object = sdata[[\"ADT\"]], metadata = data.frame(annot2, row.names = str_replace(rownames(annot2), pattern = '_', replace = '-')))\n",
    "sdata[[\"MUX\"]] <- CreateAssayObject(counts = matrix.mux)\n"
   ]
  },
  {
   "cell_type": "markdown",
   "id": "445fc60d",
   "metadata": {},
   "source": [
    "# Export"
   ]
  },
  {
   "cell_type": "code",
   "execution_count": 4,
   "id": "224553f9",
   "metadata": {},
   "outputs": [
    {
     "name": "stderr",
     "output_type": "stream",
     "text": [
      "Warning message:\n",
      "“Overwriting previous file /n/groups/klein/nico/neutrophils/data/neutrophils_totalseq_01292021.h5Seurat”\n",
      "Creating h5Seurat file for version 3.1.5.9900\n",
      "\n",
      "Adding counts for RNA\n",
      "\n",
      "Adding data for RNA\n",
      "\n",
      "No variable features found for RNA\n",
      "\n",
      "Adding feature-level metadata for RNA\n",
      "\n",
      "Adding counts for ADT\n",
      "\n",
      "Adding data for ADT\n",
      "\n",
      "No variable features found for ADT\n",
      "\n",
      "Adding feature-level metadata for ADT\n",
      "\n",
      "Adding counts for MUX\n",
      "\n",
      "Adding data for MUX\n",
      "\n",
      "No variable features found for MUX\n",
      "\n",
      "No feature-level metadata found for MUX\n",
      "\n",
      "Validating h5Seurat file\n",
      "\n",
      "Adding data from RNA as X\n",
      "\n",
      "Transfering meta.features to var\n",
      "\n",
      "Adding counts from RNA as raw\n",
      "\n",
      "Transfering meta.features to raw/var\n",
      "\n",
      "Transfering meta.data to obs\n",
      "\n",
      "Validating h5Seurat file\n",
      "\n",
      "Adding data from ADT as X\n",
      "\n",
      "Transfering meta.features to var\n",
      "\n",
      "Adding counts from ADT as raw\n",
      "\n",
      "Transfering meta.features to raw/var\n",
      "\n",
      "Transfering meta.data to obs\n",
      "\n",
      "Validating h5Seurat file\n",
      "\n",
      "Adding data from MUX as X\n",
      "\n",
      "Adding counts from MUX as raw\n",
      "\n",
      "Transfering meta.data to obs\n",
      "\n"
     ]
    }
   ],
   "source": [
    "SaveH5Seurat(sdata, filename = \"/n/groups/klein/nico/neutrophils/data/neutrophils_totalseq_01292021.h5Seurat\", overwrite = TRUE)\n",
    "Convert(\"/n/groups/klein/nico/neutrophils/data/neutrophils_totalseq_01292021.h5Seurat\", dest = \"/n/groups/klein/nico/neutrophils/data/neutrophils_totalseq_01292021_rna.h5ad\", assay = \"RNA\", overwrite = TRUE)\n",
    "Convert(\"/n/groups/klein/nico/neutrophils/data/neutrophils_totalseq_01292021.h5Seurat\", dest = \"/n/groups/klein/nico/neutrophils/data/neutrophils_totalseq_01292021_adt.h5ad\", assay = \"ADT\", overwrite = TRUE)\n",
    "Convert(\"/n/groups/klein/nico/neutrophils/data/neutrophils_totalseq_01292021.h5Seurat\", dest = \"/n/groups/klein/nico/neutrophils/data/neutrophils_totalseq_01292021_mux.h5ad\", assay = \"MUX\", overwrite = TRUE)"
   ]
  }
 ],
 "metadata": {
  "kernelspec": {
   "display_name": "neutrophils_kernel_r",
   "language": "R",
   "name": "neutrophils_kernel_r"
  },
  "language_info": {
   "codemirror_mode": "r",
   "file_extension": ".r",
   "mimetype": "text/x-r-source",
   "name": "R",
   "pygments_lexer": "r",
   "version": "4.1.1"
  }
 },
 "nbformat": 4,
 "nbformat_minor": 5
}
