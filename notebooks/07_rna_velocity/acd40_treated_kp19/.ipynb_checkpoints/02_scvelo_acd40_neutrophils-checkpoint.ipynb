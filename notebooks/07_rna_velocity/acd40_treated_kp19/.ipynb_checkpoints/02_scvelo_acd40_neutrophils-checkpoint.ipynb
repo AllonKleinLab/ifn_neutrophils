{
 "cells": [
  {
   "cell_type": "code",
   "execution_count": 1,
   "id": "61b586cc",
   "metadata": {},
   "outputs": [],
   "source": [
    "import numpy as np\n",
    "import pandas as pd\n",
    "import matplotlib as mpl\n",
    "import matplotlib.pyplot as plt\n",
    "import seaborn as sns\n",
    "import scanpy as sc\n",
    "\n",
    "from sys import path\n",
    "from os.path import abspath\n",
    "path.append(abspath(\"/home/ng136/nico\"))\n",
    "import ng_functions as ng\n",
    "\n",
    "from copy import deepcopy\n",
    "from glob import glob\n",
    "from pathlib import Path\n",
    "import warnings\n",
    "from time import time\n",
    "from tqdm import tqdm\n",
    "\n",
    "from datetime import datetime\n",
    "\n",
    "import scvelo as scv"
   ]
  },
  {
   "cell_type": "code",
   "execution_count": 2,
   "id": "23db295a",
   "metadata": {},
   "outputs": [
    {
     "name": "stdout",
     "output_type": "stream",
     "text": [
      "2022-06-28 15:24:10.338415\n"
     ]
    }
   ],
   "source": [
    "print(datetime.today())"
   ]
  },
  {
   "cell_type": "markdown",
   "id": "fd69efe3",
   "metadata": {},
   "source": [
    "# Useful dictionaries"
   ]
  },
  {
   "cell_type": "code",
   "execution_count": 3,
   "id": "9776da64",
   "metadata": {},
   "outputs": [],
   "source": [
    "n_states_dict = {'N1a' : 'Sell+Ngp+ neutrophils',\n",
    "                 'N1b' : 'Sell+Lst1+ neutrophils',\n",
    "                 'N2' : 'Sell+Cxcl10+ neutrophils',\n",
    "                 'N3' : 'Cxcl3+ neutrophils',\n",
    "                 'N4' : 'Siglecf+Xbp1+ neutrophils',\n",
    "                 'N5' : 'Siglecf+Ccl3+ neutrophils',\n",
    "                 'N6' : 'Siglecf+Ngp+ neutrophils'}\n",
    "\n",
    "neu_palette_dict = {'Sell+Ngp+ neutrophils': '#6EA6CD',\n",
    "                    'Sell+Lst1+ neutrophils': '#4A7BB7',\n",
    "                    'Sell+Cxcl10+ neutrophils': '#364B9A',\n",
    "                    'Cxcl3+ neutrophils': '#EAECCC',\n",
    "                    'Siglecf+Xbp1+ neutrophils': '#A50026',\n",
    "                    'Siglecf+Ccl3+ neutrophils': '#DD3D2D',\n",
    "                    'Siglecf+Ngp+ neutrophils': '#F67E4B'}"
   ]
  },
  {
   "cell_type": "code",
   "execution_count": 4,
   "id": "b39a8f7d",
   "metadata": {},
   "outputs": [],
   "source": [
    "exp3_samples = ['1A', '1B', '2A', '2B']\n",
    "n_states = ['N1a', 'N1b', 'N2', 'N3', 'N4', 'N5', 'N6']\n",
    "\n",
    "sample_dict = {'1A' : '1.KP19_CXCL10pos',\n",
    "               '1B' : '1.KP19_CXCL10neg',\n",
    "               '2A' : '2.KP19_CXCL10pos',\n",
    "               '2B' : '2.KP19_CXCL10neg'}\n",
    "\n",
    "lane_per_sample = {'1A': '1',\n",
    "                   '1B': '1',\n",
    "                   '2A': '2',\n",
    "                   '2B': '2'}"
   ]
  },
  {
   "cell_type": "markdown",
   "id": "e24c5316",
   "metadata": {},
   "source": [
    "# Import embedded data"
   ]
  },
  {
   "cell_type": "code",
   "execution_count": 5,
   "id": "6e91c5c5",
   "metadata": {},
   "outputs": [],
   "source": [
    "adata = sc.read('/n/groups/klein/nico/neutrophils/backups/totalseq_exp3_neutrophils_acd40_annotated_embedding_25210x17824_backup_220422_15h46.h5ad')"
   ]
  },
  {
   "cell_type": "markdown",
   "id": "3aa40e05",
   "metadata": {},
   "source": [
    "# Import loom files from each"
   ]
  },
  {
   "cell_type": "code",
   "execution_count": 6,
   "id": "9bed11a9",
   "metadata": {},
   "outputs": [
    {
     "name": "stderr",
     "output_type": "stream",
     "text": [
      "Variable names are not unique. To make them unique, call `.var_names_make_unique`.\n",
      "Variable names are not unique. To make them unique, call `.var_names_make_unique`.\n",
      "Variable names are not unique. To make them unique, call `.var_names_make_unique`.\n",
      "Variable names are not unique. To make them unique, call `.var_names_make_unique`.\n"
     ]
    }
   ],
   "source": [
    "vdict = {sample: scv.read(f'/n/groups/klein/nico/neutrophils/data/velocyto/neutrophils_totalseq_aCD40/{sample}/{sample}.loom') for sample in exp3_samples}"
   ]
  },
  {
   "cell_type": "code",
   "execution_count": 7,
   "id": "a85eadd8",
   "metadata": {},
   "outputs": [
    {
     "name": "stdout",
     "output_type": "stream",
     "text": [
      "1A\n",
      "1.KP19_CXCL10pos\n",
      "1B\n",
      "1.KP19_CXCL10neg\n",
      "2A\n",
      "2.KP19_CXCL10pos\n",
      "2B\n",
      "2.KP19_CXCL10neg\n"
     ]
    }
   ],
   "source": [
    "for sample_id in exp3_samples:\n",
    "    print(sample_id)\n",
    "    for library_name in ['1.KP19_CXCL10pos', '2.KP19_CXCL10pos', '1.KP19_CXCL10neg', '2.KP19_CXCL10neg']:\n",
    "        if adata[adata.obs['library_name'] == library_name].obs['barcode'].isin(vdict[sample_id].obs_names.map(lambda x : x.split(':')[-1][:-1] + '-1')).mean() == 1:\n",
    "            print(library_name)"
   ]
  },
  {
   "cell_type": "code",
   "execution_count": 8,
   "id": "b83e2bdd",
   "metadata": {},
   "outputs": [],
   "source": [
    "for k,v in vdict.items():\n",
    "    v.var_names_make_unique()\n",
    "    v.obs['sampleID'] = v.obs['library_name'] = v.obs_names.map(lambda x : x.split(':')[0]).map(sample_dict)\n",
    "    v.obs['barcode'] = v.obs_names.map(lambda x : x.split(':')[-1][:-1] + '-1')\n",
    "    v.obs['cellID'] = v.obs.merge(adata.obs, left_on=['library_name', 'barcode'], \n",
    "                                  right_on=['library_name', 'barcode'], how='left')['cellID'].values\n",
    "    \n",
    "    v.obs_names = v.obs['cellID'].rename(None)\n",
    "    vdict[k] = v[~v.obs['cellID'].isna()]"
   ]
  },
  {
   "cell_type": "markdown",
   "id": "e0b09097",
   "metadata": {},
   "source": [
    "# Merge and preprocess together"
   ]
  },
  {
   "cell_type": "code",
   "execution_count": 9,
   "id": "636100c6",
   "metadata": {},
   "outputs": [],
   "source": [
    "vdata = sc.concat(vdict)"
   ]
  },
  {
   "cell_type": "code",
   "execution_count": 10,
   "id": "525a9091",
   "metadata": {},
   "outputs": [
    {
     "name": "stderr",
     "output_type": "stream",
     "text": [
      "Trying to set attribute `.obs` of view, copying.\n"
     ]
    }
   ],
   "source": [
    "inherited_umap = pd.DataFrame(adata.obsm['X_umap'], index=adata.obs_names, columns=['X_umap1', 'X_umap2'])\n",
    "vdata.obsm['X_umap'] = vdata.obs.join(inherited_umap).iloc[:,-2:].values\n",
    "vdata.obs['smoothed_Zilionis'] = adata.obs['smoothed_Zilionis']\n",
    "\n",
    "vdata = vdata[vdata.obs['smoothed_Zilionis'].isin(n_states)]\n",
    "\n",
    "vdata.obs['neutrophil_subset'] = vdata.obs['smoothed_Zilionis'].map(n_states_dict).astype('category')\n",
    "vdata.obs['neutrophil_subset'] = vdata.obs['neutrophil_subset'].cat.reorder_categories(sorted(vdata.obs['neutrophil_subset'].cat.categories))\n",
    "\n",
    "vdata.uns['neutrophil_subset_colors'] = vdata.obs['neutrophil_subset'].cat.categories.map(neu_palette_dict)"
   ]
  },
  {
   "cell_type": "code",
   "execution_count": 11,
   "id": "1d6a33d8",
   "metadata": {},
   "outputs": [
    {
     "name": "stdout",
     "output_type": "stream",
     "text": [
      "Normalized count data: X, spliced, unspliced.\n",
      "Logarithmized X.\n"
     ]
    }
   ],
   "source": [
    "scv.pp.filter_and_normalize(vdata)\n"
   ]
  },
  {
   "cell_type": "code",
   "execution_count": 12,
   "id": "a18e0c3f",
   "metadata": {},
   "outputs": [
    {
     "name": "stdout",
     "output_type": "stream",
     "text": [
      "computing neighbors\n",
      "    finished (0:00:35) --> added \n",
      "    'distances' and 'connectivities', weighted adjacency matrices (adata.obsp)\n",
      "computing moments based on connectivities\n",
      "    finished (0:00:38) --> added \n",
      "    'Ms' and 'Mu', moments of un/spliced abundances (adata.layers)\n"
     ]
    }
   ],
   "source": [
    "scv.pp.moments(vdata)\n"
   ]
  },
  {
   "cell_type": "code",
   "execution_count": null,
   "id": "c4aacdd4",
   "metadata": {},
   "outputs": [
    {
     "name": "stdout",
     "output_type": "stream",
     "text": [
      "recovering dynamics (using 4/32 cores)\n"
     ]
    },
    {
     "data": {
      "application/vnd.jupyter.widget-view+json": {
       "model_id": "f6e89a38c4d34208b24aad7d19aa6aa3",
       "version_major": 2,
       "version_minor": 0
      },
      "text/plain": [
       "  0%|          | 0/3069 [00:00<?, ?gene/s]"
      ]
     },
     "metadata": {},
     "output_type": "display_data"
    }
   ],
   "source": [
    "scv.tl.recover_dynamics(vdata, n_jobs=4)"
   ]
  },
  {
   "cell_type": "code",
   "execution_count": null,
   "id": "4ed1b122",
   "metadata": {},
   "outputs": [],
   "source": [
    "scv.tl.velocity(vdata, mode='dynamical')"
   ]
  },
  {
   "cell_type": "code",
   "execution_count": null,
   "id": "ff3a6627",
   "metadata": {},
   "outputs": [],
   "source": [
    "scv.tl.velocity_graph(vdata, n_jobs=4)"
   ]
  },
  {
   "cell_type": "markdown",
   "id": "7c51f287",
   "metadata": {},
   "source": [
    "# Save"
   ]
  },
  {
   "cell_type": "code",
   "execution_count": 19,
   "id": "41d9ffd8",
   "metadata": {},
   "outputs": [
    {
     "name": "stderr",
     "output_type": "stream",
     "text": [
      "... storing 'barcode' as categorical\n"
     ]
    },
    {
     "name": "stdout",
     "output_type": "stream",
     "text": [
      "/n/groups/klein/nico/neutrophils/backups/totalseq_exp3_neutrophils_scvelo_25210x32285_backup_220607_01h35.h5ad\n",
      "Elapsed time: 0 minutes and 49.9 seconds.\n"
     ]
    }
   ],
   "source": [
    "start = time()\n",
    "fname = '/n/groups/klein/nico/neutrophils/backups/totalseq_exp3_neutrophils_scvelo_{}x{}_backup_{}.h5ad'.format(*vdata.shape,ng.now())\n",
    "vdata.write(fname)\n",
    "print(fname)\n",
    "ng.print_etime(start)"
   ]
  }
 ],
 "metadata": {
  "kernelspec": {
   "display_name": "neutrophils_kernel",
   "language": "python",
   "name": "neutrophils_kernel"
  },
  "language_info": {
   "codemirror_mode": {
    "name": "ipython",
    "version": 3
   },
   "file_extension": ".py",
   "mimetype": "text/x-python",
   "name": "python",
   "nbconvert_exporter": "python",
   "pygments_lexer": "ipython3",
   "version": "3.8.13"
  }
 },
 "nbformat": 4,
 "nbformat_minor": 5
}
