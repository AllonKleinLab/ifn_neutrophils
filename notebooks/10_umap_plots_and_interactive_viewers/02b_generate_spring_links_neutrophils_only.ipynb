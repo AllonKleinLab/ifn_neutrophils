{
 "cells": [
  {
   "cell_type": "code",
   "execution_count": 1,
   "id": "cd5d6733",
   "metadata": {},
   "outputs": [],
   "source": [
    "import numpy as np\n",
    "import pandas as pd\n",
    "import matplotlib as mpl\n",
    "import matplotlib.pyplot as plt\n",
    "import seaborn as sns\n",
    "import scanpy as sc\n",
    "\n",
    "from sys import path\n",
    "from os.path import abspath\n",
    "path.append(abspath(\"/home/ng136/nico\"))\n",
    "import ng_functions as ng\n",
    "\n",
    "from glob import glob\n",
    "from pathlib import Path\n",
    "import warnings\n",
    "from time import time\n",
    "from datetime import datetime\n",
    "from tqdm import tqdm\n",
    "\n",
    "from sklearn.preprocessing import LabelBinarizer\n",
    "from sklearn.metrics import ConfusionMatrixDisplay"
   ]
  },
  {
   "cell_type": "code",
   "execution_count": 2,
   "id": "360809f7",
   "metadata": {},
   "outputs": [
    {
     "name": "stdout",
     "output_type": "stream",
     "text": [
      "2022-12-15 22:54:35.619100\n"
     ]
    }
   ],
   "source": [
    "print(datetime.today())"
   ]
  },
  {
   "cell_type": "markdown",
   "id": "82df003b",
   "metadata": {},
   "source": [
    "# I/O"
   ]
  },
  {
   "cell_type": "markdown",
   "id": "ce9c72e3",
   "metadata": {},
   "source": [
    "# Load annotated experiments 2 and 3 (neutrophils only)"
   ]
  },
  {
   "cell_type": "code",
   "execution_count": 3,
   "id": "f89aecaa",
   "metadata": {},
   "outputs": [],
   "source": [
    "n_states = ['N1a', 'N1b', 'N2', 'N3', 'N4', 'N5', 'N6']\n"
   ]
  },
  {
   "cell_type": "code",
   "execution_count": 4,
   "id": "baa05708",
   "metadata": {},
   "outputs": [],
   "source": [
    "n_states_dict = {'N1a' : 'Sell+Ngp+ neutrophils',\n",
    "                 'N1b' : 'Sell+Lst1+ neutrophils',\n",
    "                 'N2' : 'Sell+Cxcl10+ neutrophils',\n",
    "                 'N3' : 'Cxcl3+ neutrophils',\n",
    "                 'N4' : 'Siglecf+Xbp1+ neutrophils',\n",
    "                 'N5' : 'Siglecf+Ccl3+ neutrophils',\n",
    "                 'N6' : 'Siglecf+Ngp+ neutrophils'}\n",
    "\n",
    "neu_palette_dict = {'Sell+Ngp+ neutrophils': '#6EA6CD',\n",
    "                    'Sell+Lst1+ neutrophils': '#4A7BB7',\n",
    "                    'Sell+Cxcl10+ neutrophils': '#364B9A',\n",
    "                    'Cxcl3+ neutrophils': '#EAECCC',\n",
    "                    'Siglecf+Xbp1+ neutrophils': '#A50026',\n",
    "                    'Siglecf+Ccl3+ neutrophils': '#DD3D2D',\n",
    "                    'Siglecf+Ngp+ neutrophils': '#F67E4B'}"
   ]
  },
  {
   "cell_type": "code",
   "execution_count": 5,
   "id": "b2508454",
   "metadata": {},
   "outputs": [],
   "source": [
    "ndata = sc.read('/n/groups/klein/nico/neutrophils/backups/totalseq_exp2_neutrophils_untreated_annotated_embedding_5258x13126_backup_220422_15h46.h5ad')\n",
    "tdata = sc.read('/n/groups/klein/nico/neutrophils/backups/totalseq_exp3_neutrophils_acd40_annotated_embedding_25210x17824_backup_220422_15h46.h5ad')\n",
    "\n",
    "ndata.obs['cell_state_annotation'] = ndata.obs['smoothed_Zilionis']\n",
    "tdata.obs['cell_state_annotation'] = tdata.obs['smoothed_Zilionis']\n",
    "\n",
    "hdata = ndata[ndata.obs.sample_condition.str.startswith('WT')].copy()\n",
    "udata = ndata[ndata.obs.sample_condition.str.startswith('KP19')].copy()\n"
   ]
  },
  {
   "cell_type": "markdown",
   "id": "afd7ac59",
   "metadata": {},
   "source": [
    "# ADT"
   ]
  },
  {
   "cell_type": "code",
   "execution_count": 6,
   "id": "4d2bd4d1",
   "metadata": {},
   "outputs": [],
   "source": [
    "nadtdata = sc.read('/n/groups/klein/nico/neutrophils/backups/totalseq_exp2_neutrophils_untreated_adt_clr_no_cd101_3978x20_backup_220601_04h57.h5ad')\n",
    "tadtdata = sc.read('/n/groups/klein/nico/neutrophils/backups/totalseq_exp3_neutrophils_treated_adt_clr_25210x20_backup_220601_05h05.h5ad')\n",
    "\n",
    "nadtdata.obs['cell_state_annotation'] = nadtdata.obs['smoothed_Zilionis']\n",
    "tadtdata.obs['cell_state_annotation'] = tadtdata.obs['smoothed_Zilionis']\n",
    "\n",
    "\n",
    "hadtdata = nadtdata[nadtdata.obs.sample_condition.str.startswith('WT')].copy()\n",
    "uadtdata = nadtdata[nadtdata.obs.sample_condition.str.startswith('KP19')].copy()"
   ]
  },
  {
   "cell_type": "markdown",
   "id": "376af09c",
   "metadata": {},
   "source": [
    "# SPRING"
   ]
  },
  {
   "cell_type": "markdown",
   "id": "bd32e655",
   "metadata": {},
   "source": [
    "# Set up X "
   ]
  },
  {
   "cell_type": "code",
   "execution_count": 7,
   "id": "938d609d",
   "metadata": {},
   "outputs": [],
   "source": [
    "ndata.X = ndata.layers['cp10k']\n",
    "hdata.X = hdata.layers['cp10k']\n",
    "udata.X = udata.layers['cp10k']\n",
    "tdata.X = tdata.layers['cp10k']\n",
    "\n",
    "nadtdata.X = nadtdata.layers['clr']\n",
    "hadtdata.X = hadtdata.layers['clr']\n",
    "uadtdata.X = uadtdata.layers['clr']\n",
    "tadtdata.X = tadtdata.layers['clr']"
   ]
  },
  {
   "cell_type": "markdown",
   "id": "56bfeb54",
   "metadata": {},
   "source": [
    "# Set up obs"
   ]
  },
  {
   "cell_type": "code",
   "execution_count": 8,
   "id": "1370add8",
   "metadata": {},
   "outputs": [],
   "source": [
    "for adata in [ndata, hdata, udata, tdata]:\n",
    "    adata.obs = adata.obs.loc[:,adata.obs.columns.isin(['n_counts', 'n_genes', 'mito_fraction', \n",
    "                                                        'library_name', 'sample_condition', \n",
    "                                                        'cell_state_annotation'])]\n",
    "    \n",
    "    \n",
    "for adtdata in [nadtdata, hadtdata, uadtdata]:\n",
    "    adtdata.obs = adtdata.obs.loc[:,adtdata.obs.columns.isin(['n_counts', 'n_genes', 'mito_fraction', \n",
    "                                                    'library_name', 'sample_condition', 'CD101_Ab', 'Lair1_Ab',\n",
    "                                                    'cell_state_annotation'])]\n",
    "\n",
    "\n",
    "tadtdata.obs = tadtdata.obs.loc[:,tadtdata.obs.columns.isin(['n_counts', 'n_genes', 'mito_fraction', \n",
    "                                                    'library_name', 'sample_condition', 'Rat_IgG2a_Ab', 'cell_state_annotation'])]\n",
    "    \n",
    "    \n",
    "\n",
    "\n",
    "\n",
    "# ndata.obs = ndata.obs.loc[:,ndata.obs.columns.isin(['n_counts', 'n_genes', 'mito_fraction', \n",
    "#                                                     'library_name', 'sample_condition', 'most_likely_Zilionis', 'smoothed_Zilionis'])]\n",
    "\n",
    "# tdata.obs = tdata.obs.loc[:,tdata.obs.columns.isin(['n_counts', 'n_genes', 'mito_fraction', \n",
    "#                                                     'library_name', 'sample_condition', 'most_likely_Zilionis', \n",
    "#                                                     'smoothed_Zilionis', 'smoothed_Zilionis_split', 'smoothed_Zilionis_sub'])]\n",
    "\n",
    "\n",
    "# nadtdata.obs = nadtdata.obs.loc[:,nadtdata.obs.columns.isin(['n_counts', 'n_genes', 'mito_fraction', \n",
    "#                                                     'library_name', 'sample_condition', 'CD101_Ab', 'Lair1_Ab',\n",
    "#                                                     'most_likely_Zilionis', 'smoothed_Zilionis'])]\n",
    "\n",
    "\n"
   ]
  },
  {
   "cell_type": "code",
   "execution_count": 9,
   "id": "034a09e6",
   "metadata": {},
   "outputs": [],
   "source": [
    "for adata in [ndata, hdata, udata, tdata, nadtdata, hadtdata, uadtdata, tadtdata]:\n",
    "    adata.obs['neutrophil_subset'] = adata.obs['cell_state_annotation'].map(n_states_dict).astype('category')\n",
    "    adata.obs['neutrophil_subset'] = adata.obs['neutrophil_subset'].cat.reorder_categories(sorted(adata.obs['neutrophil_subset'].cat.categories))\n",
    "    \n",
    "    adata.uns['neutrophil_subset_colors'] = adata.obs['neutrophil_subset'].cat.categories.map(neu_palette_dict)"
   ]
  },
  {
   "cell_type": "markdown",
   "id": "31b5d916",
   "metadata": {},
   "source": [
    "# Save colors"
   ]
  },
  {
   "cell_type": "code",
   "execution_count": 10,
   "id": "60bd3f19",
   "metadata": {},
   "outputs": [],
   "source": [
    "# neu_palette = ['#6EA6CD', '#4A7BB7', '#364B9A', '#EAECCC', '#A50026', '#DD3D2D', '#F67E4B']\n",
    "# neu_palette_reduced = ['#6EA6CD', '#4A7BB7', '#364B9A', '#A50026', '#DD3D2D', '#F67E4B'] # no N3 color\n",
    "\n",
    "\n",
    "# for adata in [ndata, udata, tdata, nadtdata, uadtdata, tadtdata]:\n",
    "#     adata.uns['neutrophil_subset_colors'] = neu_palette\n",
    "\n",
    "# hdata.uns['neutrophil_subset_colors'] = neu_palette_reduced\n",
    "# hadtdata.uns['neutrophil_subset_colors'] = neu_palette_reduced\n",
    "\n",
    "    \n",
    "    \n",
    "\n",
    "\n",
    "# # ndata.uns['neutrophil_subset'] = ndata.uns['smoothed_Zilionis_colors'] = neu_palette\n",
    "# # hdata.uns['neutrophil_subset'] = hdata.uns['smoothed_Zilionis_colors'] = neu_palette_reduced\n",
    "# # udata.uns['most_likely_Zilionis_colors'] = udata.uns['smoothed_Zilionis_colors'] = neu_palette\n",
    "# # tdata.uns['most_likely_Zilionis_colors'] = tdata.uns['smoothed_Zilionis_colors'] = neu_palette\n",
    "\n",
    "# # nadtdata.uns['most_likely_Zilionis_colors'] = nadtdata.uns['smoothed_Zilionis_colors'] = neu_palette\n",
    "# # hadtdata.uns['most_likely_Zilionis_colors'] = hadtdata.uns['smoothed_Zilionis_colors'] = neu_palette_reduced\n",
    "# # uadtdata.uns['most_likely_Zilionis_colors'] = uadtdata.uns['smoothed_Zilionis_colors'] = neu_palette\n",
    "# # tadtdata.uns['most_likely_Zilionis_colors'] = tadtdata.uns['smoothed_Zilionis_colors'] = neu_palette"
   ]
  },
  {
   "cell_type": "markdown",
   "id": "95681f00",
   "metadata": {},
   "source": [
    "# Set up UMAP"
   ]
  },
  {
   "cell_type": "code",
   "execution_count": 11,
   "id": "d45a3bf2",
   "metadata": {},
   "outputs": [],
   "source": [
    "# nadtdata.obsm['X_umap'] = ndata[ndata.obs.sample_condition != 'KP19_CD101'].obsm['X_umap']\n",
    "# hadtdata.obsm['X_umap'] = hdata[hdata.obs.sample_condition != 'KP19_CD101'].obsm['X_umap']\n",
    "# uadtdata.obsm['X_umap'] = udata[udata.obs.sample_condition != 'KP19_CD101'].obsm['X_umap']\n",
    "# tadtdata.obsm['X_umap'] = tdata.obsm['X_umap']\n",
    "\n",
    "# nadtdata.obsp =  ndata[ndata.obs.sample_condition != 'KP19_CD101'].obsp\n",
    "# hadtdata.obsp =  hdata[hdata.obs.sample_condition != 'KP19_CD101'].obsp\n",
    "# uadtdata.obsp =  udata[udata.obs.sample_condition != 'KP19_CD101'].obsp\n",
    "# tadtdata.obsp =  tdata.obsp\n",
    "\n",
    "# nadtdata.uns['neighbors'] = ndata.uns['neighbors']\n",
    "# hadtdata.uns['neighbors'] = hdata.uns['neighbors']\n",
    "# uadtdata.uns['neighbors'] = udata.uns['neighbors']\n",
    "# tadtdata.uns['neighbors'] = tdata.uns['neighbors']"
   ]
  },
  {
   "cell_type": "markdown",
   "id": "c276adaa",
   "metadata": {},
   "source": [
    "# SAVE SPRING"
   ]
  },
  {
   "cell_type": "code",
   "execution_count": 23,
   "id": "7896a92e",
   "metadata": {},
   "outputs": [
    {
     "name": "stdout",
     "output_type": "stream",
     "text": [
      "Writing subplot to /n/groups/klein/nico/neutrophils/spring/221215/neutrophils_untreated_gex/gex\n"
     ]
    },
    {
     "name": "stderr",
     "output_type": "stream",
     "text": [
      "/n/groups/klein/nico/neutrophils/analysis/conda-env/lib/python3.8/site-packages/scanpy/external/exporting.py:151: FutureWarning: is_categorical is deprecated and will be removed in a future version.  Use is_categorical_dtype instead\n",
      "  if is_categorical(adata.obs[obs_name]):\n",
      "/n/groups/klein/nico/neutrophils/analysis/conda-env/lib/python3.8/site-packages/scanpy/external/exporting.py:167: FutureWarning: is_categorical is deprecated and will be removed in a future version.  Use is_categorical_dtype instead\n",
      "  if not is_categorical(adata.obs[obs_name]):\n"
     ]
    },
    {
     "name": "stdout",
     "output_type": "stream",
     "text": [
      "Elapsed time: 0 minutes and 19.9 seconds.\n",
      "Writing subplot to /n/groups/klein/nico/neutrophils/spring/221215/neutrophils_healthy_gex/gex\n",
      "Elapsed time: 0 minutes and 13.9 seconds.\n",
      "Writing subplot to /n/groups/klein/nico/neutrophils/spring/221215/neutrophils_kp19_gex/gex\n",
      "Elapsed time: 0 minutes and 18.1 seconds.\n",
      "Writing subplot to /n/groups/klein/nico/neutrophils/spring/221215/neutrophils_acd40_gex/gex\n",
      "Elapsed time: 1 minutes and 6.7 seconds.\n"
     ]
    }
   ],
   "source": [
    "ng.save_spring(ndata, '/n/groups/klein/nico/neutrophils/spring/221215/', sample_name='neutrophils_untreated_gex', embedding_name='gex')\n",
    "ng.save_spring(hdata, '/n/groups/klein/nico/neutrophils/spring/221215/', sample_name='neutrophils_healthy_gex', embedding_name='gex')\n",
    "ng.save_spring(udata, '/n/groups/klein/nico/neutrophils/spring/221215/', sample_name='neutrophils_kp19_gex', embedding_name='gex')\n",
    "ng.save_spring(tdata, '/n/groups/klein/nico/neutrophils/spring/221215/', sample_name='neutrophils_acd40_gex', embedding_name='gex')"
   ]
  },
  {
   "cell_type": "code",
   "execution_count": 24,
   "id": "051b0b4d",
   "metadata": {},
   "outputs": [
    {
     "name": "stdout",
     "output_type": "stream",
     "text": [
      "Writing subplot to /n/groups/klein/nico/neutrophils/spring/221215/neutrophils_untreated_adt/adt\n",
      "Elapsed time: 0 minutes and 3.6 seconds.\n",
      "Writing subplot to /n/groups/klein/nico/neutrophils/spring/221215/neutrophils_healthy_adt/adt\n",
      "Elapsed time: 0 minutes and 1.4 seconds.\n",
      "Writing subplot to /n/groups/klein/nico/neutrophils/spring/221215/neutrophils_kp19_adt/adt\n",
      "Elapsed time: 0 minutes and 2.3 seconds.\n",
      "Writing subplot to /n/groups/klein/nico/neutrophils/spring/221215/neutrophils_acd40_adt/adt\n",
      "Elapsed time: 0 minutes and 22.9 seconds.\n"
     ]
    }
   ],
   "source": [
    "ng.save_spring(nadtdata, '/n/groups/klein/nico/neutrophils/spring/221215/', sample_name='neutrophils_untreated_adt', embedding_name='adt')\n",
    "ng.save_spring(hadtdata, '/n/groups/klein/nico/neutrophils/spring/221215/', sample_name='neutrophils_healthy_adt', embedding_name='adt')\n",
    "ng.save_spring(uadtdata, '/n/groups/klein/nico/neutrophils/spring/221215/', sample_name='neutrophils_kp19_adt', embedding_name='adt')\n",
    "ng.save_spring(tadtdata, '/n/groups/klein/nico/neutrophils/spring/221215/', sample_name='neutrophils_acd40_adt', embedding_name='adt')"
   ]
  },
  {
   "cell_type": "markdown",
   "id": "e2388d56",
   "metadata": {},
   "source": [
    "# Copy to SPRING directory"
   ]
  },
  {
   "cell_type": "code",
   "execution_count": 14,
   "id": "b052a88c",
   "metadata": {},
   "outputs": [],
   "source": [
    "import shutil\n",
    "import glob"
   ]
  },
  {
   "cell_type": "code",
   "execution_count": 26,
   "id": "81f47eaf",
   "metadata": {},
   "outputs": [],
   "source": [
    "spring_projects = glob.glob('/n/groups/klein/nico/neutrophils/spring/221215/*')"
   ]
  },
  {
   "cell_type": "code",
   "execution_count": 33,
   "id": "9f73f2e1",
   "metadata": {},
   "outputs": [
    {
     "data": {
      "text/plain": [
       "['/n/groups/klein/nico/neutrophils/spring/221215/all_cells_kp19_gex',\n",
       " '/n/groups/klein/nico/neutrophils/spring/221215/neutrophils_kp19_adt',\n",
       " '/n/groups/klein/nico/neutrophils/spring/221215/all_cells_untreated_gex',\n",
       " '/n/groups/klein/nico/neutrophils/spring/221215/all_cells_acd40_adt',\n",
       " '/n/groups/klein/nico/neutrophils/spring/221215/neutrophils_healthy_adt',\n",
       " '/n/groups/klein/nico/neutrophils/spring/221215/neutrophils_healthy_gex',\n",
       " '/n/groups/klein/nico/neutrophils/spring/221215/neutrophils_acd40_gex',\n",
       " '/n/groups/klein/nico/neutrophils/spring/221215/neutrophils_untreated_gex',\n",
       " '/n/groups/klein/nico/neutrophils/spring/221215/neutrophils_kp19_gex',\n",
       " '/n/groups/klein/nico/neutrophils/spring/221215/all_cells_kp19_adt',\n",
       " '/n/groups/klein/nico/neutrophils/spring/221215/all_cells_untreated_adt',\n",
       " '/n/groups/klein/nico/neutrophils/spring/221215/all_cells_acd40_gex',\n",
       " '/n/groups/klein/nico/neutrophils/spring/221215/all_cells_healthy_gex',\n",
       " '/n/groups/klein/nico/neutrophils/spring/221215/neutrophils_untreated_adt',\n",
       " '/n/groups/klein/nico/neutrophils/spring/221215/all_cells_healthy_adt',\n",
       " '/n/groups/klein/nico/neutrophils/spring/221215/neutrophils_acd40_adt']"
      ]
     },
     "execution_count": 33,
     "metadata": {},
     "output_type": "execute_result"
    }
   ],
   "source": [
    "spring_projects"
   ]
  },
  {
   "cell_type": "code",
   "execution_count": 37,
   "id": "6bff71a6",
   "metadata": {},
   "outputs": [],
   "source": [
    "for spring in spring_projects:\n",
    "    shutil.copytree(spring, '/n/groups/kleintools/SPRING_private/gungabeesoon22/' + spring.replace('/n/groups/klein/nico/neutrophils/spring/',\"\"))\n"
   ]
  },
  {
   "cell_type": "code",
   "execution_count": 32,
   "id": "4eacc019",
   "metadata": {},
   "outputs": [
    {
     "data": {
      "text/plain": [
       "'/n/groups/klein/nico/neutrophils/spring/221215/neutrophils_acd40_adt'"
      ]
     },
     "execution_count": 32,
     "metadata": {},
     "output_type": "execute_result"
    }
   ],
   "source": [
    "spring"
   ]
  },
  {
   "cell_type": "code",
   "execution_count": 36,
   "id": "75a0ad47",
   "metadata": {},
   "outputs": [
    {
     "data": {
      "text/plain": [
       "'221215/neutrophils_acd40_adt'"
      ]
     },
     "execution_count": 36,
     "metadata": {},
     "output_type": "execute_result"
    }
   ],
   "source": []
  },
  {
   "cell_type": "code",
   "execution_count": null,
   "id": "4301f29f",
   "metadata": {},
   "outputs": [],
   "source": []
  }
 ],
 "metadata": {
  "kernelspec": {
   "display_name": "neutrophils_kernel",
   "language": "python",
   "name": "neutrophils_kernel"
  },
  "language_info": {
   "codemirror_mode": {
    "name": "ipython",
    "version": 3
   },
   "file_extension": ".py",
   "mimetype": "text/x-python",
   "name": "python",
   "nbconvert_exporter": "python",
   "pygments_lexer": "ipython3",
   "version": "3.8.13"
  }
 },
 "nbformat": 4,
 "nbformat_minor": 5
}
