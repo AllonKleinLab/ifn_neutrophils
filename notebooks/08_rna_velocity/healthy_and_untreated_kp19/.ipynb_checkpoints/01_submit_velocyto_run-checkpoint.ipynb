{
 "cells": [
  {
   "cell_type": "code",
   "execution_count": 5,
   "id": "3ae18777",
   "metadata": {},
   "outputs": [],
   "source": [
    "import os"
   ]
  },
  {
   "cell_type": "code",
   "execution_count": 6,
   "id": "aa7ddd81",
   "metadata": {},
   "outputs": [],
   "source": [
    "samples = ['D2_S1', 'D2_S2', 'D2_S3', 'D2_S4', 'D2_S5', 'D2_S6']\n",
    "\n",
    "lane_per_sample = {'D2_S1': '1',\n",
    "                   'D2_S2': '1',\n",
    "                   'D2_S3': '1',\n",
    "                   'D2_S4': '2',\n",
    "                   'D2_S5': '2',\n",
    "                   'D2_S6': '2'}"
   ]
  },
  {
   "cell_type": "markdown",
   "id": "23eaf6de",
   "metadata": {},
   "source": [
    "# Submit"
   ]
  },
  {
   "cell_type": "code",
   "execution_count": 7,
   "id": "0a8bdb1f",
   "metadata": {},
   "outputs": [
    {
     "name": "stdout",
     "output_type": "stream",
     "text": [
      "Submitted batch job 51429219\n",
      "Submitted batch job 51429220\n",
      "Submitted batch job 51429221\n",
      "Submitted batch job 51429222\n",
      "Submitted batch job 51429223\n",
      "Submitted batch job 51429224\n"
     ]
    }
   ],
   "source": [
    "for sample in samples:\n",
    "    with open(f'/n/groups/klein/nico/neutrophils/analysis/220408_rna_velocity/velocyto_{sample}.sh', 'w') as job_file:    \n",
    "        job_file.write(f\"\"\"#!/bin/bash\n",
    "#SBATCH --time=12:00:00\n",
    "#SBATCH --mem=128000\n",
    "#SBATCH --nodes=1                      # Number of nodes (keep at 1)\n",
    "#SBATCH --ntasks=1                     # Number of tasks per node (keep at 1)\n",
    "#SBATCH --cpus-per-task=2             # CPU cores requested per task (change for threaded jobs)\n",
    "#SBATCH --partition=short\n",
    "#SBATCH --job-name=velocyto_{sample}\n",
    "#SBATCH --output=/n/groups/klein/nico/neutrophils/logs/velocyto_{sample}_%j.out\n",
    "#SBATCH --mail-type=ALL\n",
    "\n",
    "module load gcc/9.2.0 samtools/1.14\n",
    "source ~/.bashrc\n",
    "conda activate /n/groups/klein/nico/neutrophils/analysis/conda-env\n",
    "\n",
    "BAM_FILE=/n/groups/klein/nico/neutrophils/data/raw/neutrophils_totalseq_01292021/mapping/Lane_{lane_per_sample[sample]}quad/outs/per_sample_outs/{sample}/count/sample_alignments.bam\n",
    "BC_FILE=/n/groups/klein/nico/neutrophils/data/raw/neutrophils_totalseq_01292021/mapping/Lane_{lane_per_sample[sample]}quad/outs/per_sample_outs/{sample}/count/sample_feature_bc_matrix/barcodes.tsv.gz\n",
    "GTF_FILE=/n/groups/klein/nico/neutrophils/references/refdata-gex-mm10-2020-A/genes/genes.gtf\n",
    "OUTPUT_DIR=/n/groups/klein/nico/neutrophils/data/velocyto/neutrophils_totalseq_01292021/{sample}\n",
    "\n",
    "mkdir -p $OUTPUT_DIR\n",
    "\n",
    "exit_code=0\n",
    "env time -v velocyto run --bcfile $BC_FILE -o $OUTPUT_DIR $BAM_FILE $GTF_FILE -e {sample} || exit_code=$?\n",
    "\n",
    "exit $exit_code\"\"\")\n",
    "        \n",
    "    os.system(\"sbatch {}\".format(job_file.name))    "
   ]
  }
 ],
 "metadata": {
  "kernelspec": {
   "display_name": "neutrophils_kernel",
   "language": "python",
   "name": "neutrophils_kernel"
  },
  "language_info": {
   "codemirror_mode": {
    "name": "ipython",
    "version": 3
   },
   "file_extension": ".py",
   "mimetype": "text/x-python",
   "name": "python",
   "nbconvert_exporter": "python",
   "pygments_lexer": "ipython3",
   "version": "3.8.13"
  }
 },
 "nbformat": 4,
 "nbformat_minor": 5
}
