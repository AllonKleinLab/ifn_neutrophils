{
 "cells": [
  {
   "cell_type": "code",
   "execution_count": 1,
   "id": "d8ee315c",
   "metadata": {},
   "outputs": [],
   "source": [
    "import os"
   ]
  },
  {
   "cell_type": "code",
   "execution_count": 2,
   "id": "6af17686",
   "metadata": {},
   "outputs": [],
   "source": [
    "samples = ['1A', '1B', '2A', '2B']\n",
    "\n",
    "lane_per_sample = {'1A': '1',\n",
    "                   '1B': '1',\n",
    "                   '2A': '2',\n",
    "                   '2B': '2'}"
   ]
  },
  {
   "cell_type": "markdown",
   "id": "6697fb93",
   "metadata": {},
   "source": [
    "# Submit"
   ]
  },
  {
   "cell_type": "code",
   "execution_count": 3,
   "id": "4c49b043",
   "metadata": {},
   "outputs": [
    {
     "name": "stdout",
     "output_type": "stream",
     "text": [
      "Submitted batch job 51469351\n",
      "Submitted batch job 51469352\n",
      "Submitted batch job 51469353\n",
      "Submitted batch job 51469354\n"
     ]
    }
   ],
   "source": [
    "for sample in samples:\n",
    "    with open(f'/n/groups/klein/nico/neutrophils/analysis/220412_rna_velocity_acd40/velocyto_{sample}.sh', 'w') as job_file:    \n",
    "        job_file.write(f\"\"\"#!/bin/bash\n",
    "#SBATCH --time=12:00:00\n",
    "#SBATCH --mem=128000\n",
    "#SBATCH --nodes=1                      # Number of nodes (keep at 1)\n",
    "#SBATCH --ntasks=1                     # Number of tasks per node (keep at 1)\n",
    "#SBATCH --cpus-per-task=2             # CPU cores requested per task (change for threaded jobs)\n",
    "#SBATCH --partition=short\n",
    "#SBATCH --job-name=velocyto_{sample}\n",
    "#SBATCH --output=/n/groups/klein/nico/neutrophils/logs/velocyto_{sample}_%j.out\n",
    "#SBATCH --mail-type=ALL\n",
    "\n",
    "module load gcc/9.2.0 samtools/1.14\n",
    "source ~/.bashrc\n",
    "conda activate /n/groups/klein/nico/neutrophils/analysis/conda-env\n",
    "\n",
    "BAM_FILE=/n/groups/klein/nico/neutrophils/data/raw/neutrophils_totalseq_aCD40/mapping/Lane_{lane_per_sample[sample]}/outs/per_sample_outs/{sample}/count/sample_alignments.bam\n",
    "BC_FILE=/n/groups/klein/nico/neutrophils/data/raw/neutrophils_totalseq_aCD40/mapping/Lane_{lane_per_sample[sample]}/outs/per_sample_outs/{sample}/count/sample_feature_bc_matrix/barcodes.tsv.gz\n",
    "GTF_FILE=/n/groups/klein/nico/neutrophils/references/refdata-gex-mm10-2020-A/genes/genes.gtf\n",
    "OUTPUT_DIR=/n/groups/klein/nico/neutrophils/data/velocyto/neutrophils_totalseq_aCD40/{sample}\n",
    "\n",
    "mkdir -p $OUTPUT_DIR\n",
    "\n",
    "exit_code=0\n",
    "env time -v velocyto run --bcfile $BC_FILE -o $OUTPUT_DIR $BAM_FILE $GTF_FILE -e {sample} || exit_code=$?\n",
    "\n",
    "exit $exit_code\"\"\")\n",
    "        \n",
    "    os.system(\"sbatch {}\".format(job_file.name))    "
   ]
  }
 ],
 "metadata": {
  "kernelspec": {
   "display_name": "neutrophils_kernel",
   "language": "python",
   "name": "neutrophils_kernel"
  },
  "language_info": {
   "codemirror_mode": {
    "name": "ipython",
    "version": 3
   },
   "file_extension": ".py",
   "mimetype": "text/x-python",
   "name": "python",
   "nbconvert_exporter": "python",
   "pygments_lexer": "ipython3",
   "version": "3.8.13"
  }
 },
 "nbformat": 4,
 "nbformat_minor": 5
}
