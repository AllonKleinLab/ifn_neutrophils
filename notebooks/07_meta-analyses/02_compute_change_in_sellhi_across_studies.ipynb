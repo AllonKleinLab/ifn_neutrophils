{
 "cells": [
  {
   "cell_type": "code",
   "execution_count": 2,
   "id": "a1a05196",
   "metadata": {},
   "outputs": [],
   "source": [
    "import numpy as np\n",
    "import pandas as pd\n",
    "import matplotlib as mpl\n",
    "import matplotlib.pyplot as plt\n",
    "import seaborn as sns\n",
    "import scanpy as sc\n",
    "\n",
    "from sys import path\n",
    "from os.path import abspath\n",
    "path.append(abspath(\"/home/ng136/nico\"))\n",
    "import ng_functions as ng\n",
    "\n",
    "from glob import glob\n",
    "from pathlib import Path\n",
    "import warnings\n",
    "from time import time\n",
    "from tqdm import tqdm\n",
    "from datetime import datetime"
   ]
  },
  {
   "cell_type": "markdown",
   "id": "37bf1999",
   "metadata": {},
   "source": [
    "# Load datasets"
   ]
  },
  {
   "cell_type": "code",
   "execution_count": 4,
   "id": "48811b56",
   "metadata": {},
   "outputs": [],
   "source": [
    "n_states = ['N1a', 'N1b', 'N2', 'N3', 'N4', 'N5', 'N6']"
   ]
  },
  {
   "cell_type": "markdown",
   "id": "08bc92ae",
   "metadata": {},
   "source": [
    "# Zilionis"
   ]
  },
  {
   "cell_type": "code",
   "execution_count": 5,
   "id": "eb3bb8c8",
   "metadata": {},
   "outputs": [],
   "source": [
    "zdata = sc.read('/n/groups/klein/nico/neutrophils/backups/zilionis_mouse_reannotated_15939x27045_backup_220323_16h11.h5ad')"
   ]
  },
  {
   "cell_type": "code",
   "execution_count": 6,
   "id": "891d9d0a",
   "metadata": {},
   "outputs": [],
   "source": [
    "zdata.layers['umi'] = zdata.X.copy()\n",
    "zdata.X = zdata.layers['cp10k'].copy()"
   ]
  },
  {
   "cell_type": "code",
   "execution_count": 7,
   "id": "a73621e7",
   "metadata": {},
   "outputs": [],
   "source": [
    "zdata = zdata[zdata.obs['state_label'].isin(n_states)].copy()"
   ]
  },
  {
   "cell_type": "markdown",
   "id": "501a7bab",
   "metadata": {},
   "source": [
    "## Gungabeesoon"
   ]
  },
  {
   "cell_type": "markdown",
   "id": "6f1ab2ec",
   "metadata": {},
   "source": [
    "## Untreated"
   ]
  },
  {
   "cell_type": "code",
   "execution_count": 12,
   "id": "8601fe2a",
   "metadata": {},
   "outputs": [],
   "source": [
    "ndata_all = sc.read('/n/groups/klein/nico/neutrophils/backups/totalseq_exp2_all_cells_untreated_annotated_embedding_8404x13126_backup_220325_11h55.h5ad')\n",
    "ndata_all = ndata_all[ndata_all.obs['sample_condition'].isin(['KP19', 'KP19_CD101'])].copy()"
   ]
  },
  {
   "cell_type": "code",
   "execution_count": 58,
   "id": "604ecd72",
   "metadata": {},
   "outputs": [
    {
     "data": {
      "text/plain": [
       "4892"
      ]
     },
     "execution_count": 58,
     "metadata": {},
     "output_type": "execute_result"
    }
   ],
   "source": [
    "ndata_all.shape[0]"
   ]
  },
  {
   "cell_type": "code",
   "execution_count": 10,
   "id": "eaf8f568",
   "metadata": {},
   "outputs": [],
   "source": [
    "ndata = sc.read(\"/n/groups/klein/nico/neutrophils/backups/totalseq_exp2_neutrophils_untreated_annotated_embedding_5258x13126_backup_220422_15h46.h5ad\")\n",
    "ndata.layers['umi'] = ndata.X.copy()\n",
    "ndata.X = ndata.layers['cp10k'].copy()"
   ]
  },
  {
   "cell_type": "code",
   "execution_count": 14,
   "id": "1364b979",
   "metadata": {},
   "outputs": [],
   "source": [
    "ndata.obs['N_label'] = ndata.obs['smoothed_Zilionis']"
   ]
  },
  {
   "cell_type": "code",
   "execution_count": 17,
   "id": "da328987",
   "metadata": {},
   "outputs": [
    {
     "data": {
      "text/plain": [
       "2.KP19          1433\n",
       "1.KP19          1214\n",
       "2.WT             917\n",
       "2.KP19_CD101     680\n",
       "1.KP19_CD101     600\n",
       "1.WT             414\n",
       "Name: library_name, dtype: int64"
      ]
     },
     "execution_count": 17,
     "metadata": {},
     "output_type": "execute_result"
    }
   ],
   "source": [
    "ndata.obs['library_name'].value_counts()"
   ]
  },
  {
   "cell_type": "code",
   "execution_count": 20,
   "id": "cdaf2d2d",
   "metadata": {},
   "outputs": [],
   "source": [
    "ndata = ndata[ndata.obs['sample_condition'].isin(['KP19', 'KP19_CD101'])].copy()"
   ]
  },
  {
   "cell_type": "markdown",
   "id": "5dddb09e",
   "metadata": {},
   "source": [
    "## Treated"
   ]
  },
  {
   "cell_type": "code",
   "execution_count": 24,
   "id": "0b8e9fff",
   "metadata": {},
   "outputs": [],
   "source": [
    "tdata_all = sc.read(\"/n/groups/klein/nico/neutrophils/backups/totalseq_exp3_all_cells_acd40_annotated_embedding_33603x17824_backup_220325_12h01.h5ad\")"
   ]
  },
  {
   "cell_type": "code",
   "execution_count": 25,
   "id": "f4a17487",
   "metadata": {},
   "outputs": [],
   "source": [
    "tdata = sc.read(\"/n/groups/klein/nico/neutrophils/backups/totalseq_exp3_neutrophils_acd40_annotated_embedding_25210x17824_backup_220422_15h46.h5ad\")\n",
    "tdata.layers['umi'] = tdata.X.copy()\n",
    "tdata.X = tdata.layers['cp10k'].copy()"
   ]
  },
  {
   "cell_type": "code",
   "execution_count": 26,
   "id": "2b84df44",
   "metadata": {},
   "outputs": [],
   "source": [
    "tdata.obs['N_label'] = tdata.obs['smoothed_Zilionis']"
   ]
  },
  {
   "cell_type": "code",
   "execution_count": 30,
   "id": "cad12ed0",
   "metadata": {},
   "outputs": [
    {
     "data": {
      "text/plain": [
       "1.KP19_CXCL10pos    8928\n",
       "2.KP19_CXCL10pos    8879\n",
       "1.KP19_CXCL10neg    7898\n",
       "2.KP19_CXCL10neg    7898\n",
       "Name: library_name, dtype: int64"
      ]
     },
     "execution_count": 30,
     "metadata": {},
     "output_type": "execute_result"
    }
   ],
   "source": [
    "tdata_all.obs['library_name'].value_counts()"
   ]
  },
  {
   "cell_type": "code",
   "execution_count": 27,
   "id": "c7465720",
   "metadata": {},
   "outputs": [
    {
     "data": {
      "text/plain": [
       "33603"
      ]
     },
     "execution_count": 27,
     "metadata": {},
     "output_type": "execute_result"
    }
   ],
   "source": [
    "tdata_all.shape[0]"
   ]
  },
  {
   "cell_type": "markdown",
   "id": "47d32e89",
   "metadata": {},
   "source": [
    "## Garris"
   ]
  },
  {
   "cell_type": "code",
   "execution_count": 40,
   "id": "31ebec9c",
   "metadata": {},
   "outputs": [
    {
     "name": "stdout",
     "output_type": "stream",
     "text": [
      "No. of cells: \n",
      " aPD1       2942\n",
      "Control    1015\n",
      "Name: Treatment, dtype: int64\n"
     ]
    }
   ],
   "source": [
    "gdata = sc.read('/n/groups/klein/nico/neutrophils/data/rss_marius/adata_garris_neu_12012020.h5ad')\n",
    "print('No. of cells: \\n',gdata.obs['Treatment'].value_counts())\n",
    "gdata = gdata[gdata.obs['res_0.5'] == '4']"
   ]
  },
  {
   "cell_type": "code",
   "execution_count": 41,
   "id": "3c758bce",
   "metadata": {},
   "outputs": [
    {
     "name": "stderr",
     "output_type": "stream",
     "text": [
      "Trying to set attribute `.obs` of view, copying.\n"
     ]
    }
   ],
   "source": [
    "gdata.obs['N_label'] = pd.DataFrame(**np.load('/n/groups/klein/nico/neutrophils/backups/loglikelihoods_multinomial_naive_bayes_garris_neutrophils_by_zilionis_reannotated_220614_02h55.npz', allow_pickle=True)).idxmax(0).values"
   ]
  },
  {
   "cell_type": "code",
   "execution_count": 42,
   "id": "d2b0a1a3",
   "metadata": {},
   "outputs": [],
   "source": [
    "gdata_nt = gdata[gdata.obs['Treatment'] == 'Control'].copy()\n",
    "gdata_apd1 = gdata[gdata.obs['Treatment'] == 'aPD1'].copy()"
   ]
  },
  {
   "cell_type": "markdown",
   "id": "27b496ae",
   "metadata": {},
   "source": [
    "## Siwicki"
   ]
  },
  {
   "cell_type": "code",
   "execution_count": 48,
   "id": "4942b9f9",
   "metadata": {},
   "outputs": [
    {
     "name": "stderr",
     "output_type": "stream",
     "text": [
      "Trying to set attribute `.obs` of view, copying.\n",
      "Trying to set attribute `.obs` of view, copying.\n"
     ]
    },
    {
     "name": "stdout",
     "output_type": "stream",
     "text": [
      "No. of cells: \n",
      " Trx    6373\n",
      "NT     1399\n",
      "Name: treatment, dtype: int64\n"
     ]
    }
   ],
   "source": [
    "sdata_raw = sc.read(\"/n/groups/klein/nico/tox/backups/tox_marie_all_cells_unnormalized_pca_umap_leiden_35358x22631_backup_200604_01h08.h5ad\")\n",
    "sdata_raw.obs['label_Zilionis'] = pd.DataFrame(**np.load(\"/n/groups/klein/nico/tox/backups/loglikelihoods_bay_classif_tox_marie_all_cells_200423_20h42.npz\", allow_pickle=True)).idxmax().values\n",
    "\n",
    "sdata = sc.read('/home/ng136/nico/tox/backups/tox_marie_processed_data_with_raw_all_cells_34659x22631_backup_210102_20h25.h5ad')\n",
    "sdata = sdata[(~sdata.obs['predicted_doublet']) & (~sdata.obs['leiden_minor_subset'].isin(['Hepatocytes', 'RBC', 'EC1', 'EC2']))]\n",
    "sdata.obs['label_Zilionis'] = sdata_raw.obs['label_Zilionis'].astype('category')\n",
    "\n",
    "print('No. of cells: \\n',sdata[sdata.obs['tissue'] == 'Tumor'].obs['treatment'].value_counts())\n",
    "\n",
    "sdata = sdata[sdata.obs['leiden'].isin(['0', '4', '15', '20', '21'])]\n",
    "\n",
    "sdata.obs['N_label'] = pd.DataFrame(**np.load('/n/groups/klein/nico/neutrophils/backups/loglikelihoods_multinomial_naive_bayes_siwicki_neutrophils_by_zilionis_reannotated_220614_02h56.npz', allow_pickle=True)).idxmax(0).values"
   ]
  },
  {
   "cell_type": "code",
   "execution_count": 49,
   "id": "8c63ab42",
   "metadata": {},
   "outputs": [],
   "source": [
    "sdata_tumor_nt = sdata[(sdata.obs['treatment'] == 'NT') & (sdata.obs['tissue'] == 'Tumor') & (sdata.obs['marker'] == 'CD45pos')].copy()\n",
    "sdata_tumor_acd40 = sdata[(sdata.obs['treatment'] == 'Trx') & (sdata.obs['tissue'] == 'Tumor') & (sdata.obs['marker'] == 'CD45pos')].copy()"
   ]
  },
  {
   "cell_type": "markdown",
   "id": "ce3a5ae0",
   "metadata": {},
   "source": [
    "# Concatenate datasets"
   ]
  },
  {
   "cell_type": "code",
   "execution_count": 51,
   "id": "b44bbd7e",
   "metadata": {},
   "outputs": [],
   "source": [
    "datasets = {'Gungabeesoon KP19 untreated': ndata,\n",
    "             'Gungabeesoon KP19 aCD40': tdata,\n",
    "             'Garris MC38 untreated': gdata_nt,\n",
    "             'Garris MC38 aPD1': gdata_apd1,\n",
    "             'Siwicki MC38 untreated': sdata_tumor_nt,\n",
    "             'Siwicki MC38 aCD40': sdata_tumor_acd40}\n",
    "\n",
    "for i in datasets.keys():\n",
    "    datasets[i] =  datasets[i][datasets[i].obs['N_label'].isin(datasets[i].obs['N_label'].value_counts().index)].copy()"
   ]
  },
  {
   "cell_type": "markdown",
   "id": "0c15e385",
   "metadata": {},
   "source": [
    "## Incorporate absolute no. of immune cells information from each dataset"
   ]
  },
  {
   "cell_type": "code",
   "execution_count": 73,
   "id": "4e0723e8",
   "metadata": {},
   "outputs": [],
   "source": [
    "total_immune_per_dataset = pd.Series({'Gungabeesoon KP19 untreated': 4892,\n",
    "             'Gungabeesoon KP19 aCD40': 33603,\n",
    "             'Garris MC38 untreated': 1015,\n",
    "             'Garris MC38 aPD1': 2942,\n",
    "             'Siwicki MC38 untreated': 1399,\n",
    "             'Siwicki MC38 aCD40': 6373})"
   ]
  },
  {
   "cell_type": "markdown",
   "id": "7d8b2d64",
   "metadata": {},
   "source": [
    "# Compute changes in abundance (%)"
   ]
  },
  {
   "cell_type": "code",
   "execution_count": 74,
   "id": "d1308576",
   "metadata": {},
   "outputs": [],
   "source": [
    "neutrophil_abundances_per_dataset = pd.concat([d.obs['N_label'].value_counts(normalize=False).rename(dataset_name).reindex(['N1a', 'N1b', 'N2', 'N3', 'N4', 'N5', 'N6']).fillna(0) for dataset_name, d in datasets.items()], \n",
    "                                              axis=1).T\n",
    "\n",
    "neutrophil_abundances_per_dataset['Sellhi'] = neutrophil_abundances_per_dataset.loc[:,['N1a','N1b','N2']].sum(1)\n",
    "\n",
    "neutrophil_abundances_per_dataset = neutrophil_abundances_per_dataset.div(total_immune_per_dataset, axis=0)"
   ]
  },
  {
   "cell_type": "code",
   "execution_count": 76,
   "id": "79144865",
   "metadata": {},
   "outputs": [],
   "source": [
    "neutrophil_abundances_per_dataset = neutrophil_abundances_per_dataset.T"
   ]
  },
  {
   "cell_type": "code",
   "execution_count": 77,
   "id": "da8d68f1",
   "metadata": {},
   "outputs": [],
   "source": [
    "pop_changes_after_treatment = pd.DataFrame({'KP19 + aCD40': neutrophil_abundances_per_dataset['Gungabeesoon KP19 aCD40'] / (neutrophil_abundances_per_dataset['Gungabeesoon KP19 untreated']),\n",
    "'MC38 + aCD40': (neutrophil_abundances_per_dataset['Siwicki MC38 aCD40']) / (neutrophil_abundances_per_dataset['Siwicki MC38 untreated']),\n",
    "'MC38 + aPD1': (neutrophil_abundances_per_dataset['Garris MC38 aPD1']) / (neutrophil_abundances_per_dataset['Garris MC38 untreated'])}).T"
   ]
  },
  {
   "cell_type": "markdown",
   "id": "74852fce",
   "metadata": {},
   "source": [
    "# Plot"
   ]
  },
  {
   "cell_type": "code",
   "execution_count": 79,
   "id": "34d94ff5",
   "metadata": {},
   "outputs": [
    {
     "data": {
      "image/png": "[encoded data removed]",
      "text/plain": [
       "<Figure size 400x1000 with 1 Axes>"
      ]
     },
     "metadata": {
      "needs_background": "light"
     },
     "output_type": "display_data"
    }
   ],
   "source": [
    "with sns.plotting_context({'font.size':14, 'figure.dpi':200, 'figure.figsize':(2,5)}):\n",
    "    sns.barplot(x=pop_changes_after_treatment.index, y=100*(pop_changes_after_treatment['Sellhi']-1),\n",
    "               palette='rainbow')\n",
    "\n",
    "    plt.gca().set_ylabel('Change in $Sell^{hi}$ abundance (%)')\n",
    "    plt.gca().tick_params(axis='x', rotation=45)\n",
    "    plt.setp(plt.gca().get_xticklabels(), rotation=45, ha=\"right\", rotation_mode=\"anchor\")\n",
    "    sns.despine()"
   ]
  }
 ],
 "metadata": {
  "kernelspec": {
   "display_name": "neutrophils_kernel",
   "language": "python",
   "name": "neutrophils_kernel"
  },
  "language_info": {
   "codemirror_mode": {
    "name": "ipython",
    "version": 3
   },
   "file_extension": ".py",
   "mimetype": "text/x-python",
   "name": "python",
   "nbconvert_exporter": "python",
   "pygments_lexer": "ipython3",
   "version": "3.8.13"
  }
 },
 "nbformat": 4,
 "nbformat_minor": 5
}
